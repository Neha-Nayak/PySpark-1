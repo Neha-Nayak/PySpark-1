{
 "cells": [
  {
   "cell_type": "markdown",
   "id": "d2f2c653",
   "metadata": {},
   "source": [
    "# Importing necessary librabries"
   ]
  },
  {
   "cell_type": "code",
   "execution_count": 19,
   "id": "1c25ddc4",
   "metadata": {
    "scrolled": false
   },
   "outputs": [],
   "source": [
    "from pyspark.sql import SparkSession\n",
    "import matplotlib.pyplot as plt\n",
    "import pandas as pd"
   ]
  },
  {
   "cell_type": "markdown",
   "id": "ca4bd8d2",
   "metadata": {},
   "source": [
    "# Creating a Spark Session"
   ]
  },
  {
   "cell_type": "code",
   "execution_count": null,
   "id": "5f5b693d",
   "metadata": {},
   "outputs": [],
   "source": [
    "spark=SparkSession.builder.appName(\"Analysis\").getOrCreate()"
   ]
  },
  {
   "cell_type": "code",
   "execution_count": 10,
   "id": "73a0346e",
   "metadata": {
    "scrolled": false
   },
   "outputs": [
    {
     "data": {
      "text/plain": [
       "[Row(USN='4JN18CS001', SCODE='18MAT11', CIE=32, SEE=41, TOT=73, RESULT='P', GRADE=8, DATE='12019', ExamType='Regular'),\n",
       " Row(USN='4JN18CS001', SCODE='18PHY12', CIE=29, SEE=47, TOT=76, RESULT='P', GRADE=8, DATE='12019', ExamType='Regular'),\n",
       " Row(USN='4JN18CS001', SCODE='18ELE13', CIE=25, SEE=43, TOT=68, RESULT='P', GRADE=7, DATE='12019', ExamType='Regular'),\n",
       " Row(USN='4JN18CS001', SCODE='18CIV14', CIE=31, SEE=26, TOT=57, RESULT='P', GRADE=6, DATE='12019', ExamType='Regular'),\n",
       " Row(USN='4JN18CS001', SCODE='18EGDL15', CIE=31, SEE=56, TOT=87, RESULT='P', GRADE=9, DATE='12019', ExamType='Regular'),\n",
       " Row(USN='4JN18CS001', SCODE='18PHYL16', CIE=32, SEE=40, TOT=72, RESULT='P', GRADE=8, DATE='12019', ExamType='Regular'),\n",
       " Row(USN='4JN18CS001', SCODE='18ELEL17', CIE=34, SEE=52, TOT=86, RESULT='P', GRADE=9, DATE='12019', ExamType='Regular'),\n",
       " Row(USN='4JN18CS001', SCODE='18EGH18', CIE=27, SEE=32, TOT=59, RESULT='P', GRADE=6, DATE='12019', ExamType='Regular'),\n",
       " Row(USN='4JN18CS002', SCODE='18MAT11', CIE=33, SEE=51, TOT=84, RESULT='P', GRADE=9, DATE='12019', ExamType='Regular'),\n",
       " Row(USN='4JN18CS002', SCODE='18PHY12', CIE=36, SEE=45, TOT=81, RESULT='P', GRADE=9, DATE='12019', ExamType='Regular')]"
      ]
     },
     "execution_count": 10,
     "metadata": {},
     "output_type": "execute_result"
    }
   ],
   "source": [
    "df_ResultData=spark.read.csv(\"Results_Data.csv\",header=True,inferSchema=True)\n",
    "df_ResultData.head(10)"
   ]
  },
  {
   "cell_type": "markdown",
   "id": "f0a4e832",
   "metadata": {},
   "source": [
    "# Retriving first 10 rows of the data"
   ]
  },
  {
   "cell_type": "code",
   "execution_count": 11,
   "id": "eb2f4acd",
   "metadata": {
    "scrolled": true
   },
   "outputs": [
    {
     "name": "stdout",
     "output_type": "stream",
     "text": [
      "+----------+--------+---+---+---+------+-----+-----+--------+\n",
      "|       USN|   SCODE|CIE|SEE|TOT|RESULT|GRADE| DATE|ExamType|\n",
      "+----------+--------+---+---+---+------+-----+-----+--------+\n",
      "|4JN18CS001| 18MAT11| 32| 41| 73|     P|    8|12019| Regular|\n",
      "|4JN18CS001| 18PHY12| 29| 47| 76|     P|    8|12019| Regular|\n",
      "|4JN18CS001| 18ELE13| 25| 43| 68|     P|    7|12019| Regular|\n",
      "|4JN18CS001| 18CIV14| 31| 26| 57|     P|    6|12019| Regular|\n",
      "|4JN18CS001|18EGDL15| 31| 56| 87|     P|    9|12019| Regular|\n",
      "|4JN18CS001|18PHYL16| 32| 40| 72|     P|    8|12019| Regular|\n",
      "|4JN18CS001|18ELEL17| 34| 52| 86|     P|    9|12019| Regular|\n",
      "|4JN18CS001| 18EGH18| 27| 32| 59|     P|    6|12019| Regular|\n",
      "|4JN18CS002| 18MAT11| 33| 51| 84|     P|    9|12019| Regular|\n",
      "|4JN18CS002| 18PHY12| 36| 45| 81|     P|    9|12019| Regular|\n",
      "+----------+--------+---+---+---+------+-----+-----+--------+\n",
      "only showing top 10 rows\n",
      "\n"
     ]
    }
   ],
   "source": [
    "df_ResultData.show(10)"
   ]
  },
  {
   "cell_type": "markdown",
   "id": "4f17ebaa",
   "metadata": {},
   "source": [
    "# Creating a function to plot the graph"
   ]
  },
  {
   "cell_type": "markdown",
   "id": "ba1be6f8",
   "metadata": {},
   "source": [
    "### The function subcode takes subject code as argument and plots a histogram of total marks scored against the number of students of that subject"
   ]
  },
  {
   "cell_type": "code",
   "execution_count": 41,
   "id": "1c1bbd46",
   "metadata": {
    "scrolled": true
   },
   "outputs": [
    {
     "data": {
      "image/png": "[encoded data removed]",
      "text/plain": [
       "<Figure size 432x288 with 1 Axes>"
      ]
     },
     "metadata": {
      "needs_background": "light"
     },
     "output_type": "display_data"
    }
   ],
   "source": [
    "def subcode(subname):\n",
    "    plt.title('Bar plot of Total Score against Number of students')\n",
    "    plt.xlabel('Total Marks')\n",
    "    plt.ylabel('Number Of Students')\n",
    "    df_BySub=df_ResultData.filter(df_ResultData.SCODE == subname)\n",
    "    x=df_BySub.toPandas()[\"TOT\"].values.tolist()\n",
    "    plt.hist(x,rwidth=0.8)\n",
    "    plt.show()\n",
    "subcode(\"18EGDL15\")"
   ]
  }
 ],
 "metadata": {
  "kernelspec": {
   "display_name": "Python 3 (ipykernel)",
   "language": "python",
   "name": "python3"
  },
  "language_info": {
   "codemirror_mode": {
    "name": "ipython",
    "version": 3
   },
   "file_extension": ".py",
   "mimetype": "text/x-python",
   "name": "python",
   "nbconvert_exporter": "python",
   "pygments_lexer": "ipython3",
   "version": "3.9.7"
  }
 },
 "nbformat": 4,
 "nbformat_minor": 5
}
