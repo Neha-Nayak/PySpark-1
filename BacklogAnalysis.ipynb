{
  "nbformat": 4,
  "nbformat_minor": 0,
  "metadata": {
    "colab": {
      "name": "BacklogAnalysis.ipynb",
      "provenance": [],
      "collapsed_sections": [],
      "mount_file_id": "1YNH7Cgh9UTtDGPg06LZ76EaRGy6CBMBR",
      "authorship_tag": "ABX9TyOX/+Xlu++K/AA4u0cGEIQA",
      "include_colab_link": true
    },
    "kernelspec": {
      "name": "python3",
      "display_name": "Python 3"
    },
    "language_info": {
      "name": "python"
    }
  },
  "cells": [
    {
      "cell_type": "markdown",
      "metadata": {
        "id": "view-in-github",
        "colab_type": "text"
      },
      "source": [
        "<a href=\"https://colab.research.google.com/github/Neha-Nayak/PySpark-1/blob/main/BacklogAnalysis.ipynb\" target=\"_parent\"><img src=\"https://colab.research.google.com/assets/colab-badge.svg\" alt=\"Open In Colab\"/></a>"
      ]
    },
    {
      "cell_type": "markdown",
      "source": [
        "# **Backlog Analysis**"
      ],
      "metadata": {
        "id": "9x253yW62p2P"
      }
    },
    {
      "cell_type": "code",
      "source": [
        "#!pip install pyspark"
      ],
      "metadata": {
        "colab": {
          "base_uri": "https://localhost:8080/"
        },
        "id": "6nc4-zZ82xyW",
        "outputId": "fd7b65d2-911b-4a68-f99b-c685152c8e69"
      },
      "execution_count": 1,
      "outputs": [
        {
          "output_type": "stream",
          "name": "stdout",
          "text": [
            "Collecting pyspark\n",
            "  Downloading pyspark-3.2.1.tar.gz (281.4 MB)\n",
            "\u001b[K     |████████████████████████████████| 281.4 MB 39 kB/s \n",
            "\u001b[?25hCollecting py4j==0.10.9.3\n",
            "  Downloading py4j-0.10.9.3-py2.py3-none-any.whl (198 kB)\n",
            "\u001b[K     |████████████████████████████████| 198 kB 52.6 MB/s \n",
            "\u001b[?25hBuilding wheels for collected packages: pyspark\n",
            "  Building wheel for pyspark (setup.py) ... \u001b[?25l\u001b[?25hdone\n",
            "  Created wheel for pyspark: filename=pyspark-3.2.1-py2.py3-none-any.whl size=281853642 sha256=a3866bcc2debfb8093cc2593271ac7287b7c3deae2f2427ce0d11a8f220e244d\n",
            "  Stored in directory: /root/.cache/pip/wheels/9f/f5/07/7cd8017084dce4e93e84e92efd1e1d5334db05f2e83bcef74f\n",
            "Successfully built pyspark\n",
            "Installing collected packages: py4j, pyspark\n",
            "Successfully installed py4j-0.10.9.3 pyspark-3.2.1\n"
          ]
        }
      ]
    },
    {
      "cell_type": "markdown",
      "source": [
        "Importing Modules"
      ],
      "metadata": {
        "id": "kK0uVwxun44f"
      }
    },
    {
      "cell_type": "code",
      "execution_count": 2,
      "metadata": {
        "id": "U9rQjK1y2ESS"
      },
      "outputs": [],
      "source": [
        "from pyspark.sql import SparkSession\n",
        "import pandas as pd"
      ]
    },
    {
      "cell_type": "code",
      "source": [
        "spark=SparkSession.builder.appName(\"Analysis\").getOrCreate()"
      ],
      "metadata": {
        "id": "2zno9qe52n1t"
      },
      "execution_count": 3,
      "outputs": []
    },
    {
      "cell_type": "markdown",
      "source": [
        "Reading the given Results_data"
      ],
      "metadata": {
        "id": "uFmXOjrnnwPq"
      }
    },
    {
      "cell_type": "code",
      "source": [
        "df_ResultData=spark.read.csv(\"Results_Data.csv\",header=True,inferSchema=True)\n",
        "df_ResultData.head(10)"
      ],
      "metadata": {
        "colab": {
          "base_uri": "https://localhost:8080/"
        },
        "id": "xwR9SNns2n4f",
        "outputId": "f069a598-0298-4ab1-f657-0180e38ade80"
      },
      "execution_count": 4,
      "outputs": [
        {
          "output_type": "execute_result",
          "data": {
            "text/plain": [
              "[Row(USN='4JN18CS001', SCODE='18MAT11', CIE=32, SEE=41, TOT=73, RESULT='P', GRADE=8, DATE='12019', ExamType='Regular'),\n",
              " Row(USN='4JN18CS001', SCODE='18PHY12', CIE=29, SEE=47, TOT=76, RESULT='P', GRADE=8, DATE='12019', ExamType='Regular'),\n",
              " Row(USN='4JN18CS001', SCODE='18ELE13', CIE=25, SEE=43, TOT=68, RESULT='P', GRADE=7, DATE='12019', ExamType='Regular'),\n",
              " Row(USN='4JN18CS001', SCODE='18CIV14', CIE=31, SEE=26, TOT=57, RESULT='P', GRADE=6, DATE='12019', ExamType='Regular'),\n",
              " Row(USN='4JN18CS001', SCODE='18EGDL15', CIE=31, SEE=56, TOT=87, RESULT='P', GRADE=9, DATE='12019', ExamType='Regular'),\n",
              " Row(USN='4JN18CS001', SCODE='18PHYL16', CIE=32, SEE=40, TOT=72, RESULT='P', GRADE=8, DATE='12019', ExamType='Regular'),\n",
              " Row(USN='4JN18CS001', SCODE='18ELEL17', CIE=34, SEE=52, TOT=86, RESULT='P', GRADE=9, DATE='12019', ExamType='Regular'),\n",
              " Row(USN='4JN18CS001', SCODE='18EGH18', CIE=27, SEE=32, TOT=59, RESULT='P', GRADE=6, DATE='12019', ExamType='Regular'),\n",
              " Row(USN='4JN18CS002', SCODE='18MAT11', CIE=33, SEE=51, TOT=84, RESULT='P', GRADE=9, DATE='12019', ExamType='Regular'),\n",
              " Row(USN='4JN18CS002', SCODE='18PHY12', CIE=36, SEE=45, TOT=81, RESULT='P', GRADE=9, DATE='12019', ExamType='Regular')]"
            ]
          },
          "metadata": {},
          "execution_count": 4
        }
      ]
    },
    {
      "cell_type": "code",
      "source": [
        "df_ResultData.show(10)"
      ],
      "metadata": {
        "colab": {
          "base_uri": "https://localhost:8080/"
        },
        "id": "GabcpQ7z2n63",
        "outputId": "3cb1a059-a922-411e-e220-bc4a728ec284"
      },
      "execution_count": 5,
      "outputs": [
        {
          "output_type": "stream",
          "name": "stdout",
          "text": [
            "+----------+--------+---+---+---+------+-----+-----+--------+\n",
            "|       USN|   SCODE|CIE|SEE|TOT|RESULT|GRADE| DATE|ExamType|\n",
            "+----------+--------+---+---+---+------+-----+-----+--------+\n",
            "|4JN18CS001| 18MAT11| 32| 41| 73|     P|    8|12019| Regular|\n",
            "|4JN18CS001| 18PHY12| 29| 47| 76|     P|    8|12019| Regular|\n",
            "|4JN18CS001| 18ELE13| 25| 43| 68|     P|    7|12019| Regular|\n",
            "|4JN18CS001| 18CIV14| 31| 26| 57|     P|    6|12019| Regular|\n",
            "|4JN18CS001|18EGDL15| 31| 56| 87|     P|    9|12019| Regular|\n",
            "|4JN18CS001|18PHYL16| 32| 40| 72|     P|    8|12019| Regular|\n",
            "|4JN18CS001|18ELEL17| 34| 52| 86|     P|    9|12019| Regular|\n",
            "|4JN18CS001| 18EGH18| 27| 32| 59|     P|    6|12019| Regular|\n",
            "|4JN18CS002| 18MAT11| 33| 51| 84|     P|    9|12019| Regular|\n",
            "|4JN18CS002| 18PHY12| 36| 45| 81|     P|    9|12019| Regular|\n",
            "+----------+--------+---+---+---+------+-----+-----+--------+\n",
            "only showing top 10 rows\n",
            "\n"
          ]
        }
      ]
    },
    {
      "cell_type": "code",
      "source": [
        "df=df_ResultData.select('USN','SCODE','TOT','RESULT','ExamType')\n",
        "df.show()"
      ],
      "metadata": {
        "colab": {
          "base_uri": "https://localhost:8080/"
        },
        "id": "vvwlNFISnsK8",
        "outputId": "0136837d-b840-4002-c834-b821afbe5ea8"
      },
      "execution_count": 6,
      "outputs": [
        {
          "output_type": "stream",
          "name": "stdout",
          "text": [
            "+----------+--------+---+------+--------+\n",
            "|       USN|   SCODE|TOT|RESULT|ExamType|\n",
            "+----------+--------+---+------+--------+\n",
            "|4JN18CS001| 18MAT11| 73|     P| Regular|\n",
            "|4JN18CS001| 18PHY12| 76|     P| Regular|\n",
            "|4JN18CS001| 18ELE13| 68|     P| Regular|\n",
            "|4JN18CS001| 18CIV14| 57|     P| Regular|\n",
            "|4JN18CS001|18EGDL15| 87|     P| Regular|\n",
            "|4JN18CS001|18PHYL16| 72|     P| Regular|\n",
            "|4JN18CS001|18ELEL17| 86|     P| Regular|\n",
            "|4JN18CS001| 18EGH18| 59|     P| Regular|\n",
            "|4JN18CS002| 18MAT11| 84|     P| Regular|\n",
            "|4JN18CS002| 18PHY12| 81|     P| Regular|\n",
            "|4JN18CS002| 18ELE13| 68|     P| Regular|\n",
            "|4JN18CS002| 18CIV14| 63|     P| Regular|\n",
            "|4JN18CS002|18EGDL15| 89|     P| Regular|\n",
            "|4JN18CS002|18PHYL16| 75|     P| Regular|\n",
            "|4JN18CS002|18ELEL17| 84|     P| Regular|\n",
            "|4JN18CS002| 18EGH18| 72|     P| Regular|\n",
            "|4JN18CS003| 18MAT11| 81|     P| Regular|\n",
            "|4JN18CS003| 18PHY12| 73|     P| Regular|\n",
            "|4JN18CS003| 18ELE13| 81|     P| Regular|\n",
            "|4JN18CS003| 18CIV14| 72|     P| Regular|\n",
            "+----------+--------+---+------+--------+\n",
            "only showing top 20 rows\n",
            "\n"
          ]
        }
      ]
    },
    {
      "cell_type": "markdown",
      "source": [
        "Removing Null values"
      ],
      "metadata": {
        "id": "-ng11TBZ5mFQ"
      }
    },
    {
      "cell_type": "code",
      "source": [
        "df_ResultData.select('ExamType').distinct().show()"
      ],
      "metadata": {
        "colab": {
          "base_uri": "https://localhost:8080/"
        },
        "id": "IY3gcrsv2n-S",
        "outputId": "5ee2a612-4b04-4308-b023-a4e59a7b7f57"
      },
      "execution_count": 7,
      "outputs": [
        {
          "output_type": "stream",
          "name": "stdout",
          "text": [
            "+--------+\n",
            "|ExamType|\n",
            "+--------+\n",
            "| Backlog|\n",
            "|    null|\n",
            "| Regular|\n",
            "+--------+\n",
            "\n"
          ]
        }
      ]
    },
    {
      "cell_type": "code",
      "source": [
        "dftry=df.na.drop(how='any',subset='ExamType')\n",
        "dftry.select('ExamType').distinct().show()"
      ],
      "metadata": {
        "colab": {
          "base_uri": "https://localhost:8080/"
        },
        "id": "1mvIMJL54cEJ",
        "outputId": "5b8fb47c-d380-4e6d-d95e-63f36b2ec033"
      },
      "execution_count": 23,
      "outputs": [
        {
          "output_type": "stream",
          "name": "stdout",
          "text": [
            "+--------+\n",
            "|ExamType|\n",
            "+--------+\n",
            "| Backlog|\n",
            "| Regular|\n",
            "+--------+\n",
            "\n"
          ]
        }
      ]
    },
    {
      "cell_type": "markdown",
      "source": [
        "Student who failed Regular Exam."
      ],
      "metadata": {
        "id": "GcW4xh5Knm4C"
      }
    },
    {
      "cell_type": "code",
      "source": [
        "df1=dftry.filter((dftry.ExamType == 'Regular') & (dftry.RESULT == \"F\"))\n",
        "df1.show(30)"
      ],
      "metadata": {
        "colab": {
          "base_uri": "https://localhost:8080/"
        },
        "id": "TES0dMts4cHJ",
        "outputId": "5fd31169-b058-4804-99e5-8218547dd14f"
      },
      "execution_count": 9,
      "outputs": [
        {
          "output_type": "stream",
          "name": "stdout",
          "text": [
            "+----------+--------+---+------+--------+\n",
            "|       USN|   SCODE|TOT|RESULT|ExamType|\n",
            "+----------+--------+---+------+--------+\n",
            "|4JN18CS005| 18CIV14| 42|     F| Regular|\n",
            "|4JN18CS008|18EGDL15| 51|     F| Regular|\n",
            "|4JN18CS010|18EGDL15| 52|     F| Regular|\n",
            "|4JN18CS017| 18ELE13| 42|     F| Regular|\n",
            "|4JN18CS018|18EGDL15| 49|     F| Regular|\n",
            "|4JN18CS024| 18ELE13| 34|     F| Regular|\n",
            "|4JN18CS027| 18MAT11| 44|     F| Regular|\n",
            "|4JN18CS027| 18ELE13| 25|     F| Regular|\n",
            "|4JN18CS027|18PHYL16| 37|     F| Regular|\n",
            "|4JN18CS035| 18ELE13| 37|     F| Regular|\n",
            "|4JN18CS039| 18MAT11| 21|     F| Regular|\n",
            "|4JN18CS039| 18PHY12| 21|     F| Regular|\n",
            "|4JN18CS039| 18ELE13| 25|     F| Regular|\n",
            "|4JN18CS039| 18CIV14| 34|     F| Regular|\n",
            "|4JN18CS039|18EGDL15| 42|     F| Regular|\n",
            "|4JN18CS039|18PHYL16| 44|     F| Regular|\n",
            "|4JN18CS040| 18ELE13| 38|     F| Regular|\n",
            "|4JN18CS041| 18MAT11| 43|     F| Regular|\n",
            "|4JN18CS041| 18ELE13| 31|     F| Regular|\n",
            "|4JN18CS041| 18CIV14| 41|     F| Regular|\n",
            "|4JN18CS041|18EGDL15| 36|     F| Regular|\n",
            "|4JN18CS044|18EGDL15| 49|     F| Regular|\n",
            "|4JN18CS046|18EGDL15| 53|     F| Regular|\n",
            "|4JN18CS047| 18MAT11| 34|     F| Regular|\n",
            "|4JN18CS047| 18ELE13| 28|     F| Regular|\n",
            "|4JN18CS047| 18CIV14| 32|     F| Regular|\n",
            "|4JN18CS047|18EGDL15| 49|     F| Regular|\n",
            "|4JN18CS047|18PHYL16| 48|     F| Regular|\n",
            "|4JN18CS050| 18ELE13| 29|     F| Regular|\n",
            "|4JN18CS069| 18PHY12| 43|     F| Regular|\n",
            "+----------+--------+---+------+--------+\n",
            "only showing top 30 rows\n",
            "\n"
          ]
        }
      ]
    },
    {
      "cell_type": "markdown",
      "source": [
        "Function for determining whether a student has passed in the backlog exam."
      ],
      "metadata": {
        "id": "PqF5CDRGnM4x"
      }
    },
    {
      "cell_type": "code",
      "source": [
        "def check_usn(usn):\n",
        "  sub=[]\n",
        "  flag=[]\n",
        "  df2=dftry.filter((dftry.ExamType == 'Regular') & (dftry.RESULT == \"F\") & (dftry.USN == usn))\n",
        "  df3=dftry.filter((dftry.ExamType == 'Backlog') & (dftry.RESULT == \"P\") & (dftry.USN == usn))\n",
        "  for i in df2.select(\"SCODE\").collect():\n",
        "    sub.append(i['SCODE'])\n",
        "    if i['SCODE'] in df3.toPandas()[\"SCODE\"].values.tolist():\n",
        "      flag.append(i['SCODE'])\n",
        "  return sub,flag"
      ],
      "metadata": {
        "id": "mvFc6L1EjHBb"
      },
      "execution_count": 24,
      "outputs": []
    },
    {
      "cell_type": "code",
      "source": [
        "output=check_usn(\"4JN18CS047\")\n",
        "output"
      ],
      "metadata": {
        "colab": {
          "base_uri": "https://localhost:8080/"
        },
        "id": "mMR9mqR-jhba",
        "outputId": "5efc7704-89ab-46e3-f2d8-a1677a178d78"
      },
      "execution_count": 31,
      "outputs": [
        {
          "output_type": "execute_result",
          "data": {
            "text/plain": [
              "(['18MAT11',\n",
              "  '18ELE13',\n",
              "  '18CIV14',\n",
              "  '18EGDL15',\n",
              "  '18PHYL16',\n",
              "  '18MAT21',\n",
              "  '18ELN24'],\n",
              " ['18CIV14'])"
            ]
          },
          "metadata": {},
          "execution_count": 31
        }
      ]
    },
    {
      "cell_type": "markdown",
      "source": [
        "Subjects failed by a particular USN"
      ],
      "metadata": {
        "id": "V7CUVSGnf9sS"
      }
    },
    {
      "cell_type": "code",
      "source": [
        "subFail=output[0]\n",
        "subFail"
      ],
      "metadata": {
        "colab": {
          "base_uri": "https://localhost:8080/"
        },
        "id": "FIzVJDOef68M",
        "outputId": "6fbde601-797e-45bd-9f72-aa4cfdd322a5"
      },
      "execution_count": 32,
      "outputs": [
        {
          "output_type": "execute_result",
          "data": {
            "text/plain": [
              "['18MAT11', '18ELE13', '18CIV14', '18EGDL15', '18PHYL16', '18MAT21', '18ELN24']"
            ]
          },
          "metadata": {},
          "execution_count": 32
        }
      ]
    },
    {
      "cell_type": "markdown",
      "source": [
        "Subjects passed in the consecutive exam by that particular USN"
      ],
      "metadata": {
        "id": "cAn_mmYQgDDP"
      }
    },
    {
      "cell_type": "code",
      "source": [
        "subPass=output[1]\n",
        "subPass"
      ],
      "metadata": {
        "colab": {
          "base_uri": "https://localhost:8080/"
        },
        "id": "D7zusG58fjOR",
        "outputId": "e77fe3e9-8e23-40da-ca15-45f83ef3b941"
      },
      "execution_count": 29,
      "outputs": [
        {
          "output_type": "execute_result",
          "data": {
            "text/plain": [
              "['18CIV14']"
            ]
          },
          "metadata": {},
          "execution_count": 29
        }
      ]
    },
    {
      "cell_type": "markdown",
      "source": [
        "To Verify the above result."
      ],
      "metadata": {
        "id": "caaBt9VFnH2D"
      }
    },
    {
      "cell_type": "code",
      "source": [
        "df2=dftry.filter((dftry.ExamType == 'Regular') & (dftry.RESULT == \"F\")& (dftry.USN == \"4JN18CS047\"))\n",
        "df2.show()"
      ],
      "metadata": {
        "colab": {
          "base_uri": "https://localhost:8080/"
        },
        "id": "ItsknzjLi3Ae",
        "outputId": "be9917a1-5281-400f-b854-f4031353d142"
      },
      "execution_count": 12,
      "outputs": [
        {
          "output_type": "stream",
          "name": "stdout",
          "text": [
            "+----------+--------+---+------+--------+\n",
            "|       USN|   SCODE|TOT|RESULT|ExamType|\n",
            "+----------+--------+---+------+--------+\n",
            "|4JN18CS047| 18MAT11| 34|     F| Regular|\n",
            "|4JN18CS047| 18ELE13| 28|     F| Regular|\n",
            "|4JN18CS047| 18CIV14| 32|     F| Regular|\n",
            "|4JN18CS047|18EGDL15| 49|     F| Regular|\n",
            "|4JN18CS047|18PHYL16| 48|     F| Regular|\n",
            "|4JN18CS047| 18MAT21| 39|     F| Regular|\n",
            "|4JN18CS047| 18ELN24| 37|     F| Regular|\n",
            "+----------+--------+---+------+--------+\n",
            "\n"
          ]
        }
      ]
    },
    {
      "cell_type": "code",
      "source": [
        "df3=dftry.filter((dftry.ExamType == 'Backlog') & (dftry.RESULT == \"P\")& (dftry.USN == \"4JN18CS047\"))\n",
        "df3.show()\n"
      ],
      "metadata": {
        "colab": {
          "base_uri": "https://localhost:8080/"
        },
        "id": "rs13e2tN4cJ1",
        "outputId": "e9b6cf49-bfd7-4aac-9b9e-dd420164a5ec"
      },
      "execution_count": 13,
      "outputs": [
        {
          "output_type": "stream",
          "name": "stdout",
          "text": [
            "+----------+-------+---+------+--------+\n",
            "|       USN|  SCODE|TOT|RESULT|ExamType|\n",
            "+----------+-------+---+------+--------+\n",
            "|4JN18CS047|18CIV14| 44|     P| Backlog|\n",
            "+----------+-------+---+------+--------+\n",
            "\n"
          ]
        }
      ]
    }
  ]
}