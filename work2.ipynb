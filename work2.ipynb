{
 "cells": [
  {
   "cell_type": "markdown",
   "id": "43687138",
   "metadata": {},
   "source": [
    "# Prediction of the performance of students in a particular student based on the subject code(taking last 2 digits into considration) ,Output = TOTAL MARKS .....Using ML libraries"
   ]
  },
  {
   "cell_type": "markdown",
   "id": "6a6c89b6",
   "metadata": {},
   "source": [
    "### importing required modules"
   ]
  },
  {
   "cell_type": "code",
   "execution_count": 1,
   "id": "5d64a593",
   "metadata": {},
   "outputs": [],
   "source": [
    "from pyspark.sql import SparkSession\n",
    "import matplotlib.pyplot as plt\n",
    "import pandas as pd\n",
    "from pyspark.ml.feature import StringIndexer\n",
    "from pyspark.ml.regression import LinearRegression\n",
    "from pyspark.ml.feature import VectorAssembler\n",
    "from pyspark.ml.feature import OneHotEncoder"
   ]
  },
  {
   "cell_type": "markdown",
   "id": "380d9d7d",
   "metadata": {},
   "source": [
    "### creating Spark session"
   ]
  },
  {
   "cell_type": "code",
   "execution_count": 2,
   "id": "21ef6db0",
   "metadata": {},
   "outputs": [
    {
     "name": "stderr",
     "output_type": "stream",
     "text": [
      "22/04/10 19:28:54 WARN Utils: Your hostname, pop-os resolves to a loopback address: 127.0.1.1; using 192.168.0.195 instead (on interface wlp0s20f3)\n",
      "22/04/10 19:28:54 WARN Utils: Set SPARK_LOCAL_IP if you need to bind to another address\n",
      "WARNING: An illegal reflective access operation has occurred\n",
      "WARNING: Illegal reflective access by org.apache.spark.unsafe.Platform (file:/home/narco/anaconda3/lib/python3.9/site-packages/pyspark/jars/spark-unsafe_2.12-3.2.1.jar) to constructor java.nio.DirectByteBuffer(long,int)\n",
      "WARNING: Please consider reporting this to the maintainers of org.apache.spark.unsafe.Platform\n",
      "WARNING: Use --illegal-access=warn to enable warnings of further illegal reflective access operations\n",
      "WARNING: All illegal access operations will be denied in a future release\n",
      "Using Spark's default log4j profile: org/apache/spark/log4j-defaults.properties\n",
      "Setting default log level to \"WARN\".\n",
      "To adjust logging level use sc.setLogLevel(newLevel). For SparkR, use setLogLevel(newLevel).\n",
      "22/04/10 19:28:54 WARN NativeCodeLoader: Unable to load native-hadoop library for your platform... using builtin-java classes where applicable\n",
      "22/04/10 19:28:55 WARN Utils: Service 'SparkUI' could not bind on port 4040. Attempting port 4041.\n",
      "22/04/10 19:28:55 WARN Utils: Service 'SparkUI' could not bind on port 4041. Attempting port 4042.\n"
     ]
    }
   ],
   "source": [
    "spark = SparkSession.builder.appName('Practise').getOrCreate()"
   ]
  },
  {
   "cell_type": "markdown",
   "id": "0ea629a9",
   "metadata": {},
   "source": [
    "### reading csv file"
   ]
  },
  {
   "cell_type": "code",
   "execution_count": 3,
   "id": "555d9b7e",
   "metadata": {},
   "outputs": [
    {
     "name": "stdout",
     "output_type": "stream",
     "text": [
      "+----------+--------+---+---+---+------+-----+-----+--------+\n",
      "|       USN|   SCODE|CIE|SEE|TOT|RESULT|GRADE| DATE|ExamType|\n",
      "+----------+--------+---+---+---+------+-----+-----+--------+\n",
      "|4JN18CS001| 18MAT11| 32| 41| 73|     P|    8|12019| Regular|\n",
      "|4JN18CS001| 18PHY12| 29| 47| 76|     P|    8|12019| Regular|\n",
      "|4JN18CS001| 18ELE13| 25| 43| 68|     P|    7|12019| Regular|\n",
      "|4JN18CS001| 18CIV14| 31| 26| 57|     P|    6|12019| Regular|\n",
      "|4JN18CS001|18EGDL15| 31| 56| 87|     P|    9|12019| Regular|\n",
      "|4JN18CS001|18PHYL16| 32| 40| 72|     P|    8|12019| Regular|\n",
      "|4JN18CS001|18ELEL17| 34| 52| 86|     P|    9|12019| Regular|\n",
      "|4JN18CS001| 18EGH18| 27| 32| 59|     P|    6|12019| Regular|\n",
      "|4JN18CS002| 18MAT11| 33| 51| 84|     P|    9|12019| Regular|\n",
      "|4JN18CS002| 18PHY12| 36| 45| 81|     P|    9|12019| Regular|\n",
      "|4JN18CS002| 18ELE13| 37| 31| 68|     P|    7|12019| Regular|\n",
      "|4JN18CS002| 18CIV14| 34| 29| 63|     P|    7|12019| Regular|\n",
      "|4JN18CS002|18EGDL15| 34| 55| 89|     P|    9|12019| Regular|\n",
      "|4JN18CS002|18PHYL16| 31| 44| 75|     P|    8|12019| Regular|\n",
      "|4JN18CS002|18ELEL17| 31| 53| 84|     P|    9|12019| Regular|\n",
      "|4JN18CS002| 18EGH18| 34| 38| 72|     P|    8|12019| Regular|\n",
      "|4JN18CS003| 18MAT11| 37| 44| 81|     P|    9|12019| Regular|\n",
      "|4JN18CS003| 18PHY12| 33| 40| 73|     P|    8|12019| Regular|\n",
      "|4JN18CS003| 18ELE13| 39| 42| 81|     P|    9|12019| Regular|\n",
      "|4JN18CS003| 18CIV14| 39| 33| 72|     P|    8|12019| Regular|\n",
      "+----------+--------+---+---+---+------+-----+-----+--------+\n",
      "only showing top 20 rows\n",
      "\n"
     ]
    }
   ],
   "source": [
    "df = spark.read.csv('Results_Data.csv',header=True,inferSchema=True)\n",
    "df.show()"
   ]
  },
  {
   "cell_type": "markdown",
   "id": "a261744a",
   "metadata": {},
   "source": [
    "### preprosessnig dataframe"
   ]
  },
  {
   "cell_type": "code",
   "execution_count": 4,
   "id": "f66b7cfb",
   "metadata": {},
   "outputs": [
    {
     "name": "stdout",
     "output_type": "stream",
     "text": [
      "+----------+---+----------+-------+\n",
      "|       USN|TOT|SCODEFINAL|NEWDATE|\n",
      "+----------+---+----------+-------+\n",
      "|4JN18CS001| 73|         1|     19|\n",
      "|4JN18CS001| 76|         2|     19|\n",
      "|4JN18CS001| 68|         3|     19|\n",
      "|4JN18CS001| 57|         4|     19|\n",
      "|4JN18CS001| 87|         5|     19|\n",
      "|4JN18CS001| 72|         6|     19|\n",
      "|4JN18CS001| 86|         7|     19|\n",
      "|4JN18CS001| 59|         8|     19|\n",
      "|4JN18CS002| 84|         1|     19|\n",
      "|4JN18CS002| 81|         2|     19|\n",
      "|4JN18CS002| 68|         3|     19|\n",
      "|4JN18CS002| 63|         4|     19|\n",
      "|4JN18CS002| 89|         5|     19|\n",
      "|4JN18CS002| 75|         6|     19|\n",
      "|4JN18CS002| 84|         7|     19|\n",
      "|4JN18CS002| 72|         8|     19|\n",
      "|4JN18CS003| 81|         1|     19|\n",
      "|4JN18CS003| 73|         2|     19|\n",
      "|4JN18CS003| 81|         3|     19|\n",
      "|4JN18CS003| 72|         4|     19|\n",
      "+----------+---+----------+-------+\n",
      "only showing top 20 rows\n",
      "\n"
     ]
    }
   ],
   "source": [
    "df.createOrReplaceTempView(\"df2_view\")\n",
    "\n",
    "dffinal = spark.sql(\n",
    "    \"\"\"\n",
    "    SELECT USN,TOT,\n",
    "    (CASE\n",
    "    WHEN SCODE LIKE '%1' THEN 1\n",
    "    WHEN SCODE LIKE '%2' THEN 2\n",
    "    WHEN SCODE LIKE '%3' THEN 3\n",
    "    WHEN SCODE LIKE '%4' THEN 4\n",
    "    WHEN SCODE LIKE '%5' THEN 5\n",
    "    WHEN SCODE LIKE '%6' THEN 6\n",
    "    WHEN SCODE LIKE '%7' THEN 7\n",
    "    WHEN SCODE LIKE '%8' THEN 8\n",
    "    WHEN SCODE LIKE '%9' THEN 9\n",
    "    END) AS SCODEFINAL,\n",
    "    (CASE\n",
    "    WHEN DATE LIKE '%19' THEN 19\n",
    "    WHEN DATE LIKE '%20' THEN 20\n",
    "    END) AS NEWDATE\n",
    "    \n",
    "    FROM df2_view\n",
    "    \"\"\"\n",
    ")\n",
    "\n",
    "dffinal.show()"
   ]
  },
  {
   "cell_type": "code",
   "execution_count": 5,
   "id": "4081a5f7",
   "metadata": {},
   "outputs": [
    {
     "name": "stdout",
     "output_type": "stream",
     "text": [
      "+----------+---+----------+-------+----------+\n",
      "|       USN|TOT|SCODEFINAL|NEWDATE|EncodedUSN|\n",
      "+----------+---+----------+-------+----------+\n",
      "|4JN18CS001| 73|         1|     19|     242.0|\n",
      "|4JN18CS001| 76|         2|     19|     242.0|\n",
      "|4JN18CS001| 68|         3|     19|     242.0|\n",
      "|4JN18CS001| 57|         4|     19|     242.0|\n",
      "|4JN18CS001| 87|         5|     19|     242.0|\n",
      "|4JN18CS001| 72|         6|     19|     242.0|\n",
      "|4JN18CS001| 86|         7|     19|     242.0|\n",
      "|4JN18CS001| 59|         8|     19|     242.0|\n",
      "|4JN18CS002| 84|         1|     19|     243.0|\n",
      "|4JN18CS002| 81|         2|     19|     243.0|\n",
      "|4JN18CS002| 68|         3|     19|     243.0|\n",
      "|4JN18CS002| 63|         4|     19|     243.0|\n",
      "|4JN18CS002| 89|         5|     19|     243.0|\n",
      "|4JN18CS002| 75|         6|     19|     243.0|\n",
      "|4JN18CS002| 84|         7|     19|     243.0|\n",
      "|4JN18CS002| 72|         8|     19|     243.0|\n",
      "|4JN18CS003| 81|         1|     19|     244.0|\n",
      "|4JN18CS003| 73|         2|     19|     244.0|\n",
      "|4JN18CS003| 81|         3|     19|     244.0|\n",
      "|4JN18CS003| 72|         4|     19|     244.0|\n",
      "+----------+---+----------+-------+----------+\n",
      "only showing top 20 rows\n",
      "\n"
     ]
    }
   ],
   "source": [
    "qualification_indexer = StringIndexer(inputCol=\"USN\", outputCol=\"EncodedUSN\")\n",
    "#Fits a model to the input dataset with optional parameters.\n",
    "df1 = qualification_indexer.fit(dffinal).transform(dffinal)\n",
    "df1.show()"
   ]
  },
  {
   "cell_type": "code",
   "execution_count": 6,
   "id": "42eced23",
   "metadata": {},
   "outputs": [
    {
     "name": "stdout",
     "output_type": "stream",
     "text": [
      "+----------+---+----------+-------+----------+----------------+\n",
      "|       USN|TOT|SCODEFINAL|NEWDATE|EncodedUSN|             NEW|\n",
      "+----------+---+----------+-------+----------+----------------+\n",
      "|4JN18CS001| 73|         1|     19|     242.0|[242.0,19.0,1.0]|\n",
      "|4JN18CS001| 76|         2|     19|     242.0|[242.0,19.0,2.0]|\n",
      "|4JN18CS001| 68|         3|     19|     242.0|[242.0,19.0,3.0]|\n",
      "|4JN18CS001| 57|         4|     19|     242.0|[242.0,19.0,4.0]|\n",
      "|4JN18CS001| 87|         5|     19|     242.0|[242.0,19.0,5.0]|\n",
      "|4JN18CS001| 72|         6|     19|     242.0|[242.0,19.0,6.0]|\n",
      "|4JN18CS001| 86|         7|     19|     242.0|[242.0,19.0,7.0]|\n",
      "|4JN18CS001| 59|         8|     19|     242.0|[242.0,19.0,8.0]|\n",
      "|4JN18CS002| 84|         1|     19|     243.0|[243.0,19.0,1.0]|\n",
      "|4JN18CS002| 81|         2|     19|     243.0|[243.0,19.0,2.0]|\n",
      "|4JN18CS002| 68|         3|     19|     243.0|[243.0,19.0,3.0]|\n",
      "|4JN18CS002| 63|         4|     19|     243.0|[243.0,19.0,4.0]|\n",
      "|4JN18CS002| 89|         5|     19|     243.0|[243.0,19.0,5.0]|\n",
      "|4JN18CS002| 75|         6|     19|     243.0|[243.0,19.0,6.0]|\n",
      "|4JN18CS002| 84|         7|     19|     243.0|[243.0,19.0,7.0]|\n",
      "|4JN18CS002| 72|         8|     19|     243.0|[243.0,19.0,8.0]|\n",
      "|4JN18CS003| 81|         1|     19|     244.0|[244.0,19.0,1.0]|\n",
      "|4JN18CS003| 73|         2|     19|     244.0|[244.0,19.0,2.0]|\n",
      "|4JN18CS003| 81|         3|     19|     244.0|[244.0,19.0,3.0]|\n",
      "|4JN18CS003| 72|         4|     19|     244.0|[244.0,19.0,4.0]|\n",
      "+----------+---+----------+-------+----------+----------------+\n",
      "only showing top 20 rows\n",
      "\n"
     ]
    }
   ],
   "source": [
    "from pyspark.ml.feature import VectorAssembler\n",
    "featureassembler=VectorAssembler(inputCols=['EncodedUSN','NEWDATE','SCODEFINAL'],outputCol=\"NEW\")\n",
    "output=featureassembler.transform(df1)\n",
    "output.show()"
   ]
  },
  {
   "cell_type": "code",
   "execution_count": 7,
   "id": "8066a4cb",
   "metadata": {},
   "outputs": [
    {
     "name": "stdout",
     "output_type": "stream",
     "text": [
      "+----------+---+----------+-------+----------+----------------+\n",
      "|       USN|TOT|SCODEFINAL|NEWDATE|EncodedUSN|             NEW|\n",
      "+----------+---+----------+-------+----------+----------------+\n",
      "|4JN18CS001| 73|         1|     19|     242.0|[242.0,19.0,1.0]|\n",
      "|4JN18CS001| 76|         2|     19|     242.0|[242.0,19.0,2.0]|\n",
      "|4JN18CS001| 68|         3|     19|     242.0|[242.0,19.0,3.0]|\n",
      "|4JN18CS001| 57|         4|     19|     242.0|[242.0,19.0,4.0]|\n",
      "|4JN18CS001| 87|         5|     19|     242.0|[242.0,19.0,5.0]|\n",
      "|4JN18CS001| 72|         6|     19|     242.0|[242.0,19.0,6.0]|\n",
      "|4JN18CS001| 86|         7|     19|     242.0|[242.0,19.0,7.0]|\n",
      "|4JN18CS001| 59|         8|     19|     242.0|[242.0,19.0,8.0]|\n",
      "|4JN18CS002| 84|         1|     19|     243.0|[243.0,19.0,1.0]|\n",
      "|4JN18CS002| 81|         2|     19|     243.0|[243.0,19.0,2.0]|\n",
      "|4JN18CS002| 68|         3|     19|     243.0|[243.0,19.0,3.0]|\n",
      "|4JN18CS002| 63|         4|     19|     243.0|[243.0,19.0,4.0]|\n",
      "|4JN18CS002| 89|         5|     19|     243.0|[243.0,19.0,5.0]|\n",
      "|4JN18CS002| 75|         6|     19|     243.0|[243.0,19.0,6.0]|\n",
      "|4JN18CS002| 84|         7|     19|     243.0|[243.0,19.0,7.0]|\n",
      "|4JN18CS002| 72|         8|     19|     243.0|[243.0,19.0,8.0]|\n",
      "|4JN18CS003| 81|         1|     19|     244.0|[244.0,19.0,1.0]|\n",
      "|4JN18CS003| 73|         2|     19|     244.0|[244.0,19.0,2.0]|\n",
      "|4JN18CS003| 81|         3|     19|     244.0|[244.0,19.0,3.0]|\n",
      "|4JN18CS003| 72|         4|     19|     244.0|[244.0,19.0,4.0]|\n",
      "+----------+---+----------+-------+----------+----------------+\n",
      "only showing top 20 rows\n",
      "\n"
     ]
    }
   ],
   "source": [
    "df2 = output.limit(10000)\n",
    "df2.show()"
   ]
  },
  {
   "cell_type": "code",
   "execution_count": 8,
   "id": "7785d18c",
   "metadata": {
    "scrolled": false
   },
   "outputs": [
    {
     "name": "stdout",
     "output_type": "stream",
     "text": [
      "+----------------+---+\n",
      "|             NEW|TOT|\n",
      "+----------------+---+\n",
      "|[242.0,19.0,1.0]| 73|\n",
      "|[242.0,19.0,2.0]| 76|\n",
      "|[242.0,19.0,3.0]| 68|\n",
      "|[242.0,19.0,4.0]| 57|\n",
      "|[242.0,19.0,5.0]| 87|\n",
      "|[242.0,19.0,6.0]| 72|\n",
      "|[242.0,19.0,7.0]| 86|\n",
      "|[242.0,19.0,8.0]| 59|\n",
      "|[243.0,19.0,1.0]| 84|\n",
      "|[243.0,19.0,2.0]| 81|\n",
      "|[243.0,19.0,3.0]| 68|\n",
      "|[243.0,19.0,4.0]| 63|\n",
      "|[243.0,19.0,5.0]| 89|\n",
      "|[243.0,19.0,6.0]| 75|\n",
      "|[243.0,19.0,7.0]| 84|\n",
      "|[243.0,19.0,8.0]| 72|\n",
      "|[244.0,19.0,1.0]| 81|\n",
      "|[244.0,19.0,2.0]| 73|\n",
      "|[244.0,19.0,3.0]| 81|\n",
      "|[244.0,19.0,4.0]| 72|\n",
      "+----------------+---+\n",
      "only showing top 20 rows\n",
      "\n"
     ]
    }
   ],
   "source": [
    "finalized_data = df2.select(['NEW','TOT'])\n",
    "finalized_data.show()"
   ]
  },
  {
   "cell_type": "code",
   "execution_count": 9,
   "id": "01b7ea06",
   "metadata": {},
   "outputs": [
    {
     "data": {
      "text/plain": [
       "<bound method DataFrame.printSchema of DataFrame[NEW: vector, TOT: int]>"
      ]
     },
     "execution_count": 9,
     "metadata": {},
     "output_type": "execute_result"
    }
   ],
   "source": [
    "finalized_data.printSchema"
   ]
  },
  {
   "cell_type": "code",
   "execution_count": 10,
   "id": "402543ba",
   "metadata": {},
   "outputs": [
    {
     "name": "stdout",
     "output_type": "stream",
     "text": [
      "Training Dataset Count: 8000\n",
      "Test Dataset Count: 2000\n"
     ]
    }
   ],
   "source": [
    "train, test = finalized_data.randomSplit([0.8, 0.2])\n",
    "print(\"Training Dataset Count: \" + str(train.count()))\n",
    "print(\"Test Dataset Count: \" + str(test.count()))"
   ]
  },
  {
   "cell_type": "markdown",
   "id": "df00466d",
   "metadata": {},
   "source": [
    "### ML training starts"
   ]
  },
  {
   "cell_type": "code",
   "execution_count": 11,
   "id": "a2d53a08",
   "metadata": {},
   "outputs": [
    {
     "name": "stderr",
     "output_type": "stream",
     "text": [
      "22/04/10 19:29:02 WARN Instrumentation: [f7075be3] regParam is zero, which might cause numerical instability and overfitting.\n",
      "22/04/10 19:29:02 WARN InstanceBuilder$NativeBLAS: Failed to load implementation from:dev.ludovic.netlib.blas.JNIBLAS\n",
      "22/04/10 19:29:02 WARN InstanceBuilder$NativeBLAS: Failed to load implementation from:dev.ludovic.netlib.blas.ForeignLinkerBLAS\n",
      "22/04/10 19:29:02 WARN InstanceBuilder$NativeLAPACK: Failed to load implementation from:dev.ludovic.netlib.lapack.JNILAPACK\n"
     ]
    }
   ],
   "source": [
    "regressor=LinearRegression(featuresCol='NEW', labelCol='TOT')\n",
    "regressor=regressor.fit(train)"
   ]
  },
  {
   "cell_type": "code",
   "execution_count": 12,
   "id": "2ae48ca7",
   "metadata": {},
   "outputs": [
    {
     "name": "stdout",
     "output_type": "stream",
     "text": [
      "+--------------+---+------------------+\n",
      "|           NEW|TOT|        prediction|\n",
      "+--------------+---+------------------+\n",
      "|[0.0,19.0,1.0]| 30|47.609813006683126|\n",
      "|[0.0,19.0,1.0]| 34|47.609813006683126|\n",
      "|[0.0,19.0,3.0]| 37|52.624216805377245|\n",
      "|[0.0,19.0,4.0]| 48| 55.13141870472431|\n",
      "|[0.0,19.0,6.0]| 30|60.145822503418415|\n",
      "|[0.0,19.0,8.0]| 54| 65.16022630211253|\n",
      "|[1.0,19.0,1.0]| 61| 47.65585988715783|\n",
      "|[1.0,19.0,2.0]| 51|  50.1630617865049|\n",
      "|[1.0,19.0,4.0]| 31|55.177465585199016|\n",
      "|[1.0,19.0,5.0]| 35| 57.68466748454607|\n",
      "|[1.0,19.0,5.0]| 48| 57.68466748454607|\n",
      "|[1.0,19.0,6.0]| 55| 60.19186938389312|\n",
      "|[1.0,19.0,7.0]| 79| 62.69907128324019|\n",
      "|[1.0,19.0,8.0]| 56| 65.20627318258724|\n",
      "|[1.0,19.0,8.0]| 58| 65.20627318258724|\n",
      "|[2.0,19.0,3.0]| 51| 52.71631056632667|\n",
      "|[2.0,19.0,4.0]| 54|55.223512465673736|\n",
      "|[2.0,19.0,6.0]| 47| 60.23791626436784|\n",
      "|[2.0,19.0,8.0]| 56| 65.25232006306196|\n",
      "|[2.0,19.0,9.0]| 19| 67.75952196240902|\n",
      "|[2.0,19.0,9.0]| 33| 67.75952196240902|\n",
      "|[3.0,19.0,1.0]| 35|47.747953648107256|\n",
      "|[3.0,19.0,2.0]| 53| 50.25515554745432|\n",
      "|[3.0,19.0,8.0]| 56| 65.29836694353666|\n",
      "|[4.0,19.0,3.0]| 36| 52.80840432727608|\n",
      "+--------------+---+------------------+\n",
      "only showing top 25 rows\n",
      "\n"
     ]
    }
   ],
   "source": [
    "predictions = regressor.transform(test)\n",
    "predictions.select(['NEW','TOT','prediction']).show(25)"
   ]
  },
  {
   "cell_type": "code",
   "execution_count": 13,
   "id": "0a19b325",
   "metadata": {},
   "outputs": [
    {
     "name": "stdout",
     "output_type": "stream",
     "text": [
      "+----------+--------+---+----+\n",
      "|       USN|   SCODE|TOT|2021|\n",
      "+----------+--------+---+----+\n",
      "|4JN18CS001| 18MAT11| 73|2021|\n",
      "|4JN18CS001| 18PHY12| 76|2021|\n",
      "|4JN18CS001| 18ELE13| 68|2021|\n",
      "|4JN18CS001| 18CIV14| 57|2021|\n",
      "|4JN18CS001|18EGDL15| 87|2021|\n",
      "|4JN18CS001|18PHYL16| 72|2021|\n",
      "|4JN18CS001|18ELEL17| 86|2021|\n",
      "|4JN18CS001| 18EGH18| 59|2021|\n",
      "|4JN18CS002| 18MAT11| 84|2021|\n",
      "|4JN18CS002| 18PHY12| 81|2021|\n",
      "|4JN18CS002| 18ELE13| 68|2021|\n",
      "|4JN18CS002| 18CIV14| 63|2021|\n",
      "|4JN18CS002|18EGDL15| 89|2021|\n",
      "|4JN18CS002|18PHYL16| 75|2021|\n",
      "|4JN18CS002|18ELEL17| 84|2021|\n",
      "|4JN18CS002| 18EGH18| 72|2021|\n",
      "|4JN18CS003| 18MAT11| 81|2021|\n",
      "|4JN18CS003| 18PHY12| 73|2021|\n",
      "|4JN18CS003| 18ELE13| 81|2021|\n",
      "|4JN18CS003| 18CIV14| 72|2021|\n",
      "+----------+--------+---+----+\n",
      "only showing top 20 rows\n",
      "\n"
     ]
    }
   ],
   "source": [
    "dftest = spark.read.csv('new1.csv',header=True,inferSchema=True)\n",
    "dftest.show()\n",
    "dftest = dftest.limit(15000)"
   ]
  },
  {
   "cell_type": "code",
   "execution_count": 14,
   "id": "cebda6bd",
   "metadata": {},
   "outputs": [
    {
     "name": "stdout",
     "output_type": "stream",
     "text": [
      "+----------+--------+---+----+----------+\n",
      "|       USN|   SCODE|TOT|2021|EncodedUSN|\n",
      "+----------+--------+---+----+----------+\n",
      "|4JN18CS001| 18MAT11| 73|2021|     242.0|\n",
      "|4JN18CS001| 18PHY12| 76|2021|     242.0|\n",
      "|4JN18CS001| 18ELE13| 68|2021|     242.0|\n",
      "|4JN18CS001| 18CIV14| 57|2021|     242.0|\n",
      "|4JN18CS001|18EGDL15| 87|2021|     242.0|\n",
      "|4JN18CS001|18PHYL16| 72|2021|     242.0|\n",
      "|4JN18CS001|18ELEL17| 86|2021|     242.0|\n",
      "|4JN18CS001| 18EGH18| 59|2021|     242.0|\n",
      "|4JN18CS002| 18MAT11| 84|2021|     243.0|\n",
      "|4JN18CS002| 18PHY12| 81|2021|     243.0|\n",
      "|4JN18CS002| 18ELE13| 68|2021|     243.0|\n",
      "|4JN18CS002| 18CIV14| 63|2021|     243.0|\n",
      "|4JN18CS002|18EGDL15| 89|2021|     243.0|\n",
      "|4JN18CS002|18PHYL16| 75|2021|     243.0|\n",
      "|4JN18CS002|18ELEL17| 84|2021|     243.0|\n",
      "|4JN18CS002| 18EGH18| 72|2021|     243.0|\n",
      "|4JN18CS003| 18MAT11| 81|2021|     244.0|\n",
      "|4JN18CS003| 18PHY12| 73|2021|     244.0|\n",
      "|4JN18CS003| 18ELE13| 81|2021|     244.0|\n",
      "|4JN18CS003| 18CIV14| 72|2021|     244.0|\n",
      "+----------+--------+---+----+----------+\n",
      "only showing top 20 rows\n",
      "\n"
     ]
    }
   ],
   "source": [
    "qualification_indexer = StringIndexer(inputCol=\"USN\", outputCol=\"EncodedUSN\")\n",
    "#Fits a model to the input dataset with optional parameters.\n",
    "dftest1 = qualification_indexer.fit(dftest).transform(dftest)\n",
    "dftest1.show()"
   ]
  },
  {
   "cell_type": "code",
   "execution_count": 15,
   "id": "ea068ac4",
   "metadata": {},
   "outputs": [
    {
     "name": "stdout",
     "output_type": "stream",
     "text": [
      "+----------+---+----------+-------+\n",
      "|EncodedUSN|TOT|SCODEFINAL|NEWDATE|\n",
      "+----------+---+----------+-------+\n",
      "|     242.0| 73|         1|     21|\n",
      "|     242.0| 76|         2|     21|\n",
      "|     242.0| 68|         3|     21|\n",
      "|     242.0| 57|         4|     21|\n",
      "|     242.0| 87|         5|     21|\n",
      "|     242.0| 72|         6|     21|\n",
      "|     242.0| 86|         7|     21|\n",
      "|     242.0| 59|         8|     21|\n",
      "|     243.0| 84|         1|     21|\n",
      "|     243.0| 81|         2|     21|\n",
      "|     243.0| 68|         3|     21|\n",
      "|     243.0| 63|         4|     21|\n",
      "|     243.0| 89|         5|     21|\n",
      "|     243.0| 75|         6|     21|\n",
      "|     243.0| 84|         7|     21|\n",
      "|     243.0| 72|         8|     21|\n",
      "|     244.0| 81|         1|     21|\n",
      "|     244.0| 73|         2|     21|\n",
      "|     244.0| 81|         3|     21|\n",
      "|     244.0| 72|         4|     21|\n",
      "+----------+---+----------+-------+\n",
      "only showing top 20 rows\n",
      "\n"
     ]
    }
   ],
   "source": [
    "dftest1.createOrReplaceTempView(\"df3_view\")\n",
    "\n",
    "dffinal2 = spark.sql(\n",
    "    \"\"\"\n",
    "    SELECT EncodedUSN,TOT,\n",
    "    (CASE\n",
    "    WHEN SCODE LIKE '%1' THEN 1\n",
    "    WHEN SCODE LIKE '%2' THEN 2\n",
    "    WHEN SCODE LIKE '%3' THEN 3\n",
    "    WHEN SCODE LIKE '%4' THEN 4\n",
    "    WHEN SCODE LIKE '%5' THEN 5\n",
    "    WHEN SCODE LIKE '%6' THEN 6\n",
    "    WHEN SCODE LIKE '%7' THEN 7\n",
    "    WHEN SCODE LIKE '%8' THEN 8\n",
    "    WHEN SCODE LIKE '%9' THEN 9\n",
    "    END) AS SCODEFINAL,\n",
    "    (CASE\n",
    "    WHEN 2021 LIKE '%21' THEN 21\n",
    "    END) AS NEWDATE\n",
    "    \n",
    "    FROM df3_view\n",
    "    \"\"\"\n",
    ")\n",
    "\n",
    "dffinal2.show()"
   ]
  },
  {
   "cell_type": "code",
   "execution_count": 16,
   "id": "90acf471",
   "metadata": {},
   "outputs": [
    {
     "name": "stdout",
     "output_type": "stream",
     "text": [
      "+----------+---+----------+-------+----------------+\n",
      "|EncodedUSN|TOT|SCODEFINAL|NEWDATE|             NEW|\n",
      "+----------+---+----------+-------+----------------+\n",
      "|     242.0| 73|         1|     21|[242.0,21.0,1.0]|\n",
      "|     242.0| 76|         2|     21|[242.0,21.0,2.0]|\n",
      "|     242.0| 68|         3|     21|[242.0,21.0,3.0]|\n",
      "|     242.0| 57|         4|     21|[242.0,21.0,4.0]|\n",
      "|     242.0| 87|         5|     21|[242.0,21.0,5.0]|\n",
      "|     242.0| 72|         6|     21|[242.0,21.0,6.0]|\n",
      "|     242.0| 86|         7|     21|[242.0,21.0,7.0]|\n",
      "|     242.0| 59|         8|     21|[242.0,21.0,8.0]|\n",
      "|     243.0| 84|         1|     21|[243.0,21.0,1.0]|\n",
      "|     243.0| 81|         2|     21|[243.0,21.0,2.0]|\n",
      "|     243.0| 68|         3|     21|[243.0,21.0,3.0]|\n",
      "|     243.0| 63|         4|     21|[243.0,21.0,4.0]|\n",
      "|     243.0| 89|         5|     21|[243.0,21.0,5.0]|\n",
      "|     243.0| 75|         6|     21|[243.0,21.0,6.0]|\n",
      "|     243.0| 84|         7|     21|[243.0,21.0,7.0]|\n",
      "|     243.0| 72|         8|     21|[243.0,21.0,8.0]|\n",
      "|     244.0| 81|         1|     21|[244.0,21.0,1.0]|\n",
      "|     244.0| 73|         2|     21|[244.0,21.0,2.0]|\n",
      "|     244.0| 81|         3|     21|[244.0,21.0,3.0]|\n",
      "|     244.0| 72|         4|     21|[244.0,21.0,4.0]|\n",
      "+----------+---+----------+-------+----------------+\n",
      "only showing top 20 rows\n",
      "\n"
     ]
    }
   ],
   "source": [
    "featureassembler=VectorAssembler(inputCols=['EncodedUSN','NEWDATE','SCODEFINAL'],outputCol=\"NEW\")\n",
    "output1=featureassembler.transform(dffinal2)\n",
    "output1.show()"
   ]
  },
  {
   "cell_type": "code",
   "execution_count": 17,
   "id": "e53d990d",
   "metadata": {},
   "outputs": [],
   "source": [
    "testfinal = output1.select('NEW','TOT')"
   ]
  },
  {
   "cell_type": "code",
   "execution_count": 18,
   "id": "a07e0175",
   "metadata": {},
   "outputs": [
    {
     "name": "stdout",
     "output_type": "stream",
     "text": [
      "+----------+\n",
      "|EncodedUSN|\n",
      "+----------+\n",
      "|     242.0|\n",
      "|     242.0|\n",
      "|     242.0|\n",
      "|     242.0|\n",
      "|     242.0|\n",
      "|     242.0|\n",
      "|     242.0|\n",
      "|     242.0|\n",
      "|     243.0|\n",
      "|     243.0|\n",
      "|     243.0|\n",
      "|     243.0|\n",
      "|     243.0|\n",
      "|     243.0|\n",
      "|     243.0|\n",
      "|     243.0|\n",
      "|     244.0|\n",
      "|     244.0|\n",
      "|     244.0|\n",
      "|     244.0|\n",
      "|     244.0|\n",
      "|     244.0|\n",
      "|     244.0|\n",
      "|     244.0|\n",
      "|     147.0|\n",
      "|     147.0|\n",
      "|     147.0|\n",
      "|     147.0|\n",
      "|     147.0|\n",
      "|     147.0|\n",
      "|     147.0|\n",
      "|     147.0|\n",
      "|     178.0|\n",
      "|     178.0|\n",
      "|     178.0|\n",
      "|     178.0|\n",
      "|     178.0|\n",
      "|     178.0|\n",
      "|     178.0|\n",
      "|     178.0|\n",
      "|     245.0|\n",
      "|     245.0|\n",
      "|     245.0|\n",
      "|     245.0|\n",
      "|     245.0|\n",
      "|     245.0|\n",
      "|     245.0|\n",
      "|     245.0|\n",
      "|     246.0|\n",
      "|     246.0|\n",
      "+----------+\n",
      "only showing top 50 rows\n",
      "\n"
     ]
    }
   ],
   "source": [
    "df1.select('EncodedUSN').show(50)"
   ]
  },
  {
   "cell_type": "code",
   "execution_count": 19,
   "id": "01d41bee",
   "metadata": {},
   "outputs": [],
   "source": [
    "StringIndexer(inputCols=[\"USN\"], outputCols=[\"newUSN1\"])\n",
    "encoder = OneHotEncoder(\n",
    "    inputCols=[\"newUSN1\"],  \n",
    "    outputCols=[\"newUSN\"]\n",
    ")"
   ]
  },
  {
   "cell_type": "code",
   "execution_count": 20,
   "id": "024a9d32",
   "metadata": {},
   "outputs": [
    {
     "name": "stdout",
     "output_type": "stream",
     "text": [
      "+----------+---+----------+-------+------+\n",
      "|       USN|TOT|SCODEFINAL|NEWDATE|newUSN|\n",
      "+----------+---+----------+-------+------+\n",
      "|4JN18CS001| 73|         1|     19| 242.0|\n",
      "|4JN18CS001| 76|         2|     19| 242.0|\n",
      "|4JN18CS001| 68|         3|     19| 242.0|\n",
      "|4JN18CS001| 57|         4|     19| 242.0|\n",
      "|4JN18CS001| 87|         5|     19| 242.0|\n",
      "|4JN18CS001| 72|         6|     19| 242.0|\n",
      "|4JN18CS001| 86|         7|     19| 242.0|\n",
      "|4JN18CS001| 59|         8|     19| 242.0|\n",
      "|4JN18CS002| 84|         1|     19| 243.0|\n",
      "|4JN18CS002| 81|         2|     19| 243.0|\n",
      "|4JN18CS002| 68|         3|     19| 243.0|\n",
      "|4JN18CS002| 63|         4|     19| 243.0|\n",
      "|4JN18CS002| 89|         5|     19| 243.0|\n",
      "|4JN18CS002| 75|         6|     19| 243.0|\n",
      "|4JN18CS002| 84|         7|     19| 243.0|\n",
      "|4JN18CS002| 72|         8|     19| 243.0|\n",
      "|4JN18CS003| 81|         1|     19| 244.0|\n",
      "|4JN18CS003| 73|         2|     19| 244.0|\n",
      "|4JN18CS003| 81|         3|     19| 244.0|\n",
      "|4JN18CS003| 72|         4|     19| 244.0|\n",
      "+----------+---+----------+-------+------+\n",
      "only showing top 20 rows\n",
      "\n"
     ]
    }
   ],
   "source": [
    "indexer = StringIndexer(inputCol=\"USN\", outputCol=\"newUSN\").fit(dffinal)\n",
    "indexed_df = indexer.transform(dffinal)\n",
    "indexed_df.show()"
   ]
  },
  {
   "cell_type": "markdown",
   "id": "df7d043f",
   "metadata": {},
   "source": [
    "### Prediction"
   ]
  },
  {
   "cell_type": "code",
   "execution_count": 21,
   "id": "93b16ff3",
   "metadata": {},
   "outputs": [
    {
     "name": "stdout",
     "output_type": "stream",
     "text": [
      "+----------------+---+------------------+\n",
      "|             NEW|TOT|        prediction|\n",
      "+----------------+---+------------------+\n",
      "|[242.0,21.0,1.0]| 73| 46.52975916570128|\n",
      "|[242.0,21.0,2.0]| 76|49.036961065048345|\n",
      "|[242.0,21.0,3.0]| 68|  51.5441629643954|\n",
      "|[242.0,21.0,4.0]| 57|54.051364863742464|\n",
      "|[242.0,21.0,5.0]| 87|56.558566763089516|\n",
      "|[242.0,21.0,6.0]| 72| 59.06576866243657|\n",
      "|[242.0,21.0,7.0]| 86|61.572970561783634|\n",
      "|[242.0,21.0,8.0]| 59| 64.08017246113069|\n",
      "|[243.0,21.0,1.0]| 84|   46.575806046176|\n",
      "|[243.0,21.0,2.0]| 81|49.083007945523065|\n",
      "|[243.0,21.0,3.0]| 68| 51.59020984487012|\n",
      "|[243.0,21.0,4.0]| 63| 54.09741174421718|\n",
      "|[243.0,21.0,5.0]| 89|56.604613643564235|\n",
      "|[243.0,21.0,6.0]| 75| 59.11181554291129|\n",
      "|[243.0,21.0,7.0]| 84|61.619017442258354|\n",
      "|[243.0,21.0,8.0]| 72|  64.1262193416054|\n",
      "|[244.0,21.0,1.0]| 81|  46.6218529266507|\n",
      "|[244.0,21.0,2.0]| 73| 49.12905482599777|\n",
      "|[244.0,21.0,3.0]| 81| 51.63625672534482|\n",
      "|[244.0,21.0,4.0]| 72| 54.14345862469189|\n",
      "|[244.0,21.0,5.0]| 57| 56.65066052403894|\n",
      "|[244.0,21.0,6.0]| 57| 59.15786242338599|\n",
      "|[244.0,21.0,7.0]| 83| 61.66506432273306|\n",
      "|[244.0,21.0,8.0]| 75| 64.17226622208011|\n",
      "|[147.0,21.0,1.0]| 46| 42.15530552060375|\n",
      "+----------------+---+------------------+\n",
      "only showing top 25 rows\n",
      "\n"
     ]
    }
   ],
   "source": [
    "predictions = regressor.transform(testfinal)\n",
    "predictions.select(['NEW','TOT','prediction']).show(25)"
   ]
  },
  {
   "cell_type": "code",
   "execution_count": null,
   "id": "74042318",
   "metadata": {},
   "outputs": [],
   "source": []
  }
 ],
 "metadata": {
  "kernelspec": {
   "display_name": "Python 3 (ipykernel)",
   "language": "python",
   "name": "python3"
  },
  "language_info": {
   "codemirror_mode": {
    "name": "ipython",
    "version": 3
   },
   "file_extension": ".py",
   "mimetype": "text/x-python",
   "name": "python",
   "nbconvert_exporter": "python",
   "pygments_lexer": "ipython3",
   "version": "3.9.7"
  }
 },
 "nbformat": 4,
 "nbformat_minor": 5
}
