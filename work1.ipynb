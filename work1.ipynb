{
 "cells": [
  {
   "cell_type": "markdown",
   "id": "1cb6fb24",
   "metadata": {},
   "source": [
    "# Prediction of the performance of students in a particular student based on the subject code(taking last 2 digits into considration) ,Output = GRADE .....Using ML libraries"
   ]
  },
  {
   "cell_type": "markdown",
   "id": "4b875a19",
   "metadata": {},
   "source": [
    "### importing required modules"
   ]
  },
  {
   "cell_type": "code",
   "execution_count": 1,
   "id": "b7c061a1",
   "metadata": {},
   "outputs": [],
   "source": [
    "from pyspark.sql import SparkSession\n",
    "import matplotlib.pyplot as plt\n",
    "import pandas as pd\n",
    "from pyspark.ml.feature import StringIndexer\n",
    "from pyspark.ml.classification import RandomForestClassifier\n",
    "from pyspark.ml.feature import VectorAssembler\n",
    "from pyspark.ml.feature import OneHotEncoder"
   ]
  },
  {
   "cell_type": "markdown",
   "id": "e6da9367",
   "metadata": {},
   "source": [
    "### creating Spark session"
   ]
  },
  {
   "cell_type": "code",
   "execution_count": 2,
   "id": "62e68400",
   "metadata": {},
   "outputs": [
    {
     "name": "stderr",
     "output_type": "stream",
     "text": [
      "22/04/10 16:16:58 WARN Utils: Your hostname, pop-os resolves to a loopback address: 127.0.1.1; using 192.168.0.195 instead (on interface wlp0s20f3)\n",
      "22/04/10 16:16:58 WARN Utils: Set SPARK_LOCAL_IP if you need to bind to another address\n",
      "WARNING: An illegal reflective access operation has occurred\n",
      "WARNING: Illegal reflective access by org.apache.spark.unsafe.Platform (file:/home/narco/anaconda3/lib/python3.9/site-packages/pyspark/jars/spark-unsafe_2.12-3.2.1.jar) to constructor java.nio.DirectByteBuffer(long,int)\n",
      "WARNING: Please consider reporting this to the maintainers of org.apache.spark.unsafe.Platform\n",
      "WARNING: Use --illegal-access=warn to enable warnings of further illegal reflective access operations\n",
      "WARNING: All illegal access operations will be denied in a future release\n",
      "Using Spark's default log4j profile: org/apache/spark/log4j-defaults.properties\n",
      "Setting default log level to \"WARN\".\n",
      "To adjust logging level use sc.setLogLevel(newLevel). For SparkR, use setLogLevel(newLevel).\n",
      "22/04/10 16:16:58 WARN NativeCodeLoader: Unable to load native-hadoop library for your platform... using builtin-java classes where applicable\n",
      "22/04/10 16:16:59 WARN Utils: Service 'SparkUI' could not bind on port 4040. Attempting port 4041.\n"
     ]
    }
   ],
   "source": [
    "spark = SparkSession.builder.appName('Practise').getOrCreate()"
   ]
  },
  {
   "cell_type": "code",
   "execution_count": 3,
   "id": "30524856",
   "metadata": {},
   "outputs": [
    {
     "data": {
      "text/html": [
       "\n",
       "            <div>\n",
       "                <p><b>SparkSession - in-memory</b></p>\n",
       "                \n",
       "        <div>\n",
       "            <p><b>SparkContext</b></p>\n",
       "\n",
       "            <p><a href=\"http://192.168.0.195:4041\">Spark UI</a></p>\n",
       "\n",
       "            <dl>\n",
       "              <dt>Version</dt>\n",
       "                <dd><code>v3.2.1</code></dd>\n",
       "              <dt>Master</dt>\n",
       "                <dd><code>local[*]</code></dd>\n",
       "              <dt>AppName</dt>\n",
       "                <dd><code>Practise</code></dd>\n",
       "            </dl>\n",
       "        </div>\n",
       "        \n",
       "            </div>\n",
       "        "
      ],
      "text/plain": [
       "<pyspark.sql.session.SparkSession at 0x7effea836880>"
      ]
     },
     "execution_count": 3,
     "metadata": {},
     "output_type": "execute_result"
    }
   ],
   "source": [
    "spark"
   ]
  },
  {
   "cell_type": "markdown",
   "id": "9dd2cad6",
   "metadata": {},
   "source": [
    "### reading csv file"
   ]
  },
  {
   "cell_type": "code",
   "execution_count": 4,
   "id": "3b66becf",
   "metadata": {},
   "outputs": [
    {
     "name": "stdout",
     "output_type": "stream",
     "text": [
      "+----------+--------+---+---+---+------+-----+-----+--------+\n",
      "|       USN|   SCODE|CIE|SEE|TOT|RESULT|GRADE| DATE|ExamType|\n",
      "+----------+--------+---+---+---+------+-----+-----+--------+\n",
      "|4JN18CS001| 18MAT11| 32| 41| 73|     P|    8|12019| Regular|\n",
      "|4JN18CS001| 18PHY12| 29| 47| 76|     P|    8|12019| Regular|\n",
      "|4JN18CS001| 18ELE13| 25| 43| 68|     P|    7|12019| Regular|\n",
      "|4JN18CS001| 18CIV14| 31| 26| 57|     P|    6|12019| Regular|\n",
      "|4JN18CS001|18EGDL15| 31| 56| 87|     P|    9|12019| Regular|\n",
      "|4JN18CS001|18PHYL16| 32| 40| 72|     P|    8|12019| Regular|\n",
      "|4JN18CS001|18ELEL17| 34| 52| 86|     P|    9|12019| Regular|\n",
      "|4JN18CS001| 18EGH18| 27| 32| 59|     P|    6|12019| Regular|\n",
      "|4JN18CS002| 18MAT11| 33| 51| 84|     P|    9|12019| Regular|\n",
      "|4JN18CS002| 18PHY12| 36| 45| 81|     P|    9|12019| Regular|\n",
      "|4JN18CS002| 18ELE13| 37| 31| 68|     P|    7|12019| Regular|\n",
      "|4JN18CS002| 18CIV14| 34| 29| 63|     P|    7|12019| Regular|\n",
      "|4JN18CS002|18EGDL15| 34| 55| 89|     P|    9|12019| Regular|\n",
      "|4JN18CS002|18PHYL16| 31| 44| 75|     P|    8|12019| Regular|\n",
      "|4JN18CS002|18ELEL17| 31| 53| 84|     P|    9|12019| Regular|\n",
      "|4JN18CS002| 18EGH18| 34| 38| 72|     P|    8|12019| Regular|\n",
      "|4JN18CS003| 18MAT11| 37| 44| 81|     P|    9|12019| Regular|\n",
      "|4JN18CS003| 18PHY12| 33| 40| 73|     P|    8|12019| Regular|\n",
      "|4JN18CS003| 18ELE13| 39| 42| 81|     P|    9|12019| Regular|\n",
      "|4JN18CS003| 18CIV14| 39| 33| 72|     P|    8|12019| Regular|\n",
      "+----------+--------+---+---+---+------+-----+-----+--------+\n",
      "only showing top 20 rows\n",
      "\n"
     ]
    }
   ],
   "source": [
    "df = spark.read.csv('Results_Data.csv',header=True,inferSchema=True)\n",
    "df.show()"
   ]
  },
  {
   "cell_type": "markdown",
   "id": "26064e84",
   "metadata": {},
   "source": [
    "### preprosessnig dataframe"
   ]
  },
  {
   "cell_type": "code",
   "execution_count": 5,
   "id": "17e86584",
   "metadata": {
    "scrolled": true
   },
   "outputs": [
    {
     "name": "stdout",
     "output_type": "stream",
     "text": [
      "+----------+-----+----------+-------+\n",
      "|       USN|GRADE|SCODEFINAL|NEWDATE|\n",
      "+----------+-----+----------+-------+\n",
      "|4JN18CS001|    8|         1|     19|\n",
      "|4JN18CS001|    8|         2|     19|\n",
      "|4JN18CS001|    7|         3|     19|\n",
      "|4JN18CS001|    6|         4|     19|\n",
      "|4JN18CS001|    9|         5|     19|\n",
      "|4JN18CS001|    8|         6|     19|\n",
      "|4JN18CS001|    9|         7|     19|\n",
      "|4JN18CS001|    6|         8|     19|\n",
      "|4JN18CS002|    9|         1|     19|\n",
      "|4JN18CS002|    9|         2|     19|\n",
      "|4JN18CS002|    7|         3|     19|\n",
      "|4JN18CS002|    7|         4|     19|\n",
      "|4JN18CS002|    9|         5|     19|\n",
      "|4JN18CS002|    8|         6|     19|\n",
      "|4JN18CS002|    9|         7|     19|\n",
      "|4JN18CS002|    8|         8|     19|\n",
      "|4JN18CS003|    9|         1|     19|\n",
      "|4JN18CS003|    8|         2|     19|\n",
      "|4JN18CS003|    9|         3|     19|\n",
      "|4JN18CS003|    8|         4|     19|\n",
      "+----------+-----+----------+-------+\n",
      "only showing top 20 rows\n",
      "\n"
     ]
    }
   ],
   "source": [
    "df.createOrReplaceTempView(\"df2_view\")\n",
    "\n",
    "dffinal = spark.sql(\n",
    "    \"\"\"\n",
    "    SELECT USN,GRADE,\n",
    "    (CASE\n",
    "    WHEN SCODE LIKE '%1' THEN 1\n",
    "    WHEN SCODE LIKE '%2' THEN 2\n",
    "    WHEN SCODE LIKE '%3' THEN 3\n",
    "    WHEN SCODE LIKE '%4' THEN 4\n",
    "    WHEN SCODE LIKE '%5' THEN 5\n",
    "    WHEN SCODE LIKE '%6' THEN 6\n",
    "    WHEN SCODE LIKE '%7' THEN 7\n",
    "    WHEN SCODE LIKE '%8' THEN 8\n",
    "    WHEN SCODE LIKE '%9' THEN 9\n",
    "    END) AS SCODEFINAL,\n",
    "    (CASE\n",
    "    WHEN DATE LIKE '%19' THEN 19\n",
    "    WHEN DATE LIKE '%20' THEN 20\n",
    "    END) AS NEWDATE\n",
    "    \n",
    "    FROM df2_view\n",
    "    \"\"\"\n",
    ")\n",
    "\n",
    "dffinal.show()"
   ]
  },
  {
   "cell_type": "code",
   "execution_count": 6,
   "id": "97d04b73",
   "metadata": {},
   "outputs": [
    {
     "name": "stdout",
     "output_type": "stream",
     "text": [
      "+----------+-----+----------+-------+----------+\n",
      "|       USN|GRADE|SCODEFINAL|NEWDATE|EncodedUSN|\n",
      "+----------+-----+----------+-------+----------+\n",
      "|4JN18CS001|    8|         1|     19|     242.0|\n",
      "|4JN18CS001|    8|         2|     19|     242.0|\n",
      "|4JN18CS001|    7|         3|     19|     242.0|\n",
      "|4JN18CS001|    6|         4|     19|     242.0|\n",
      "|4JN18CS001|    9|         5|     19|     242.0|\n",
      "|4JN18CS001|    8|         6|     19|     242.0|\n",
      "|4JN18CS001|    9|         7|     19|     242.0|\n",
      "|4JN18CS001|    6|         8|     19|     242.0|\n",
      "|4JN18CS002|    9|         1|     19|     243.0|\n",
      "|4JN18CS002|    9|         2|     19|     243.0|\n",
      "|4JN18CS002|    7|         3|     19|     243.0|\n",
      "|4JN18CS002|    7|         4|     19|     243.0|\n",
      "|4JN18CS002|    9|         5|     19|     243.0|\n",
      "|4JN18CS002|    8|         6|     19|     243.0|\n",
      "|4JN18CS002|    9|         7|     19|     243.0|\n",
      "|4JN18CS002|    8|         8|     19|     243.0|\n",
      "|4JN18CS003|    9|         1|     19|     244.0|\n",
      "|4JN18CS003|    8|         2|     19|     244.0|\n",
      "|4JN18CS003|    9|         3|     19|     244.0|\n",
      "|4JN18CS003|    8|         4|     19|     244.0|\n",
      "+----------+-----+----------+-------+----------+\n",
      "only showing top 20 rows\n",
      "\n"
     ]
    }
   ],
   "source": [
    "qualification_indexer = StringIndexer(inputCol=\"USN\", outputCol=\"EncodedUSN\")\n",
    "#Fits a model to the input dataset with optional parameters.\n",
    "df1 = qualification_indexer.fit(dffinal).transform(dffinal)\n",
    "df1.show()"
   ]
  },
  {
   "cell_type": "code",
   "execution_count": 7,
   "id": "9543d56f",
   "metadata": {
    "scrolled": true
   },
   "outputs": [
    {
     "data": {
      "text/plain": [
       "<bound method DataFrame.printSchema of DataFrame[USN: string, GRADE: int, SCODEFINAL: int, NEWDATE: int]>"
      ]
     },
     "execution_count": 7,
     "metadata": {},
     "output_type": "execute_result"
    }
   ],
   "source": [
    "dffinal.printSchema"
   ]
  },
  {
   "cell_type": "code",
   "execution_count": 8,
   "id": "d099515f",
   "metadata": {
    "scrolled": false
   },
   "outputs": [
    {
     "name": "stdout",
     "output_type": "stream",
     "text": [
      "+----------+-----+----------+-------+----------+----------------+\n",
      "|       USN|GRADE|SCODEFINAL|NEWDATE|EncodedUSN|             NEW|\n",
      "+----------+-----+----------+-------+----------+----------------+\n",
      "|4JN18CS001|    8|         1|     19|     242.0|[242.0,19.0,1.0]|\n",
      "|4JN18CS001|    8|         2|     19|     242.0|[242.0,19.0,2.0]|\n",
      "|4JN18CS001|    7|         3|     19|     242.0|[242.0,19.0,3.0]|\n",
      "|4JN18CS001|    6|         4|     19|     242.0|[242.0,19.0,4.0]|\n",
      "|4JN18CS001|    9|         5|     19|     242.0|[242.0,19.0,5.0]|\n",
      "|4JN18CS001|    8|         6|     19|     242.0|[242.0,19.0,6.0]|\n",
      "|4JN18CS001|    9|         7|     19|     242.0|[242.0,19.0,7.0]|\n",
      "|4JN18CS001|    6|         8|     19|     242.0|[242.0,19.0,8.0]|\n",
      "|4JN18CS002|    9|         1|     19|     243.0|[243.0,19.0,1.0]|\n",
      "|4JN18CS002|    9|         2|     19|     243.0|[243.0,19.0,2.0]|\n",
      "|4JN18CS002|    7|         3|     19|     243.0|[243.0,19.0,3.0]|\n",
      "|4JN18CS002|    7|         4|     19|     243.0|[243.0,19.0,4.0]|\n",
      "|4JN18CS002|    9|         5|     19|     243.0|[243.0,19.0,5.0]|\n",
      "|4JN18CS002|    8|         6|     19|     243.0|[243.0,19.0,6.0]|\n",
      "|4JN18CS002|    9|         7|     19|     243.0|[243.0,19.0,7.0]|\n",
      "|4JN18CS002|    8|         8|     19|     243.0|[243.0,19.0,8.0]|\n",
      "|4JN18CS003|    9|         1|     19|     244.0|[244.0,19.0,1.0]|\n",
      "|4JN18CS003|    8|         2|     19|     244.0|[244.0,19.0,2.0]|\n",
      "|4JN18CS003|    9|         3|     19|     244.0|[244.0,19.0,3.0]|\n",
      "|4JN18CS003|    8|         4|     19|     244.0|[244.0,19.0,4.0]|\n",
      "+----------+-----+----------+-------+----------+----------------+\n",
      "only showing top 20 rows\n",
      "\n"
     ]
    }
   ],
   "source": [
    "from pyspark.ml.feature import VectorAssembler\n",
    "featureassembler=VectorAssembler(inputCols=['EncodedUSN','NEWDATE','SCODEFINAL'],outputCol=\"NEW\")\n",
    "output=featureassembler.transform(df1)\n",
    "output.show()"
   ]
  },
  {
   "cell_type": "code",
   "execution_count": 9,
   "id": "1ea38b87",
   "metadata": {
    "scrolled": true
   },
   "outputs": [
    {
     "name": "stdout",
     "output_type": "stream",
     "text": [
      "+----------+-----+----------+-------+----------+----------------+\n",
      "|       USN|GRADE|SCODEFINAL|NEWDATE|EncodedUSN|             NEW|\n",
      "+----------+-----+----------+-------+----------+----------------+\n",
      "|4JN18CS001|    8|         1|     19|     242.0|[242.0,19.0,1.0]|\n",
      "|4JN18CS001|    8|         2|     19|     242.0|[242.0,19.0,2.0]|\n",
      "|4JN18CS001|    7|         3|     19|     242.0|[242.0,19.0,3.0]|\n",
      "|4JN18CS001|    6|         4|     19|     242.0|[242.0,19.0,4.0]|\n",
      "|4JN18CS001|    9|         5|     19|     242.0|[242.0,19.0,5.0]|\n",
      "|4JN18CS001|    8|         6|     19|     242.0|[242.0,19.0,6.0]|\n",
      "|4JN18CS001|    9|         7|     19|     242.0|[242.0,19.0,7.0]|\n",
      "|4JN18CS001|    6|         8|     19|     242.0|[242.0,19.0,8.0]|\n",
      "|4JN18CS002|    9|         1|     19|     243.0|[243.0,19.0,1.0]|\n",
      "|4JN18CS002|    9|         2|     19|     243.0|[243.0,19.0,2.0]|\n",
      "|4JN18CS002|    7|         3|     19|     243.0|[243.0,19.0,3.0]|\n",
      "|4JN18CS002|    7|         4|     19|     243.0|[243.0,19.0,4.0]|\n",
      "|4JN18CS002|    9|         5|     19|     243.0|[243.0,19.0,5.0]|\n",
      "|4JN18CS002|    8|         6|     19|     243.0|[243.0,19.0,6.0]|\n",
      "|4JN18CS002|    9|         7|     19|     243.0|[243.0,19.0,7.0]|\n",
      "|4JN18CS002|    8|         8|     19|     243.0|[243.0,19.0,8.0]|\n",
      "|4JN18CS003|    9|         1|     19|     244.0|[244.0,19.0,1.0]|\n",
      "|4JN18CS003|    8|         2|     19|     244.0|[244.0,19.0,2.0]|\n",
      "|4JN18CS003|    9|         3|     19|     244.0|[244.0,19.0,3.0]|\n",
      "|4JN18CS003|    8|         4|     19|     244.0|[244.0,19.0,4.0]|\n",
      "+----------+-----+----------+-------+----------+----------------+\n",
      "only showing top 20 rows\n",
      "\n"
     ]
    }
   ],
   "source": [
    "df2 = output.limit(10000)\n",
    "df2.show()"
   ]
  },
  {
   "cell_type": "code",
   "execution_count": 10,
   "id": "c0a8b693",
   "metadata": {},
   "outputs": [
    {
     "name": "stdout",
     "output_type": "stream",
     "text": [
      "+----------------+-----+\n",
      "|             NEW|GRADE|\n",
      "+----------------+-----+\n",
      "|[242.0,19.0,1.0]|    8|\n",
      "|[242.0,19.0,2.0]|    8|\n",
      "|[242.0,19.0,3.0]|    7|\n",
      "|[242.0,19.0,4.0]|    6|\n",
      "|[242.0,19.0,5.0]|    9|\n",
      "|[242.0,19.0,6.0]|    8|\n",
      "|[242.0,19.0,7.0]|    9|\n",
      "|[242.0,19.0,8.0]|    6|\n",
      "|[243.0,19.0,1.0]|    9|\n",
      "|[243.0,19.0,2.0]|    9|\n",
      "|[243.0,19.0,3.0]|    7|\n",
      "|[243.0,19.0,4.0]|    7|\n",
      "|[243.0,19.0,5.0]|    9|\n",
      "|[243.0,19.0,6.0]|    8|\n",
      "|[243.0,19.0,7.0]|    9|\n",
      "|[243.0,19.0,8.0]|    8|\n",
      "|[244.0,19.0,1.0]|    9|\n",
      "|[244.0,19.0,2.0]|    8|\n",
      "|[244.0,19.0,3.0]|    9|\n",
      "|[244.0,19.0,4.0]|    8|\n",
      "+----------------+-----+\n",
      "only showing top 20 rows\n",
      "\n"
     ]
    }
   ],
   "source": [
    "finalized_data = df2.select(['NEW','GRADE'])\n",
    "finalized_data.show()"
   ]
  },
  {
   "cell_type": "markdown",
   "id": "81e1ab72",
   "metadata": {},
   "source": [
    "### ML training starts "
   ]
  },
  {
   "cell_type": "code",
   "execution_count": 11,
   "id": "286bd3a2",
   "metadata": {
    "scrolled": true
   },
   "outputs": [
    {
     "name": "stdout",
     "output_type": "stream",
     "text": [
      "Training Dataset Count: 9031\n",
      "Test Dataset Count: 969\n"
     ]
    }
   ],
   "source": [
    "train, test = finalized_data.randomSplit([0.9, 0.1])\n",
    "print(\"Training Dataset Count: \" + str(train.count()))\n",
    "print(\"Test Dataset Count: \" + str(test.count()))"
   ]
  },
  {
   "cell_type": "code",
   "execution_count": 12,
   "id": "a94fdf33",
   "metadata": {},
   "outputs": [],
   "source": [
    "rf = RandomForestClassifier(featuresCol = 'NEW', labelCol = 'GRADE',maxBins=720)\n",
    "rfModel = rf.fit(train)"
   ]
  },
  {
   "cell_type": "code",
   "execution_count": 13,
   "id": "95bb6108",
   "metadata": {},
   "outputs": [
    {
     "name": "stdout",
     "output_type": "stream",
     "text": [
      "+---------------+-----+----------+\n",
      "|            NEW|GRADE|prediction|\n",
      "+---------------+-----+----------+\n",
      "| [0.0,19.0,1.0]|    0|       0.0|\n",
      "| [0.0,19.0,4.0]|    5|       6.0|\n",
      "| [0.0,19.0,9.0]|    0|       0.0|\n",
      "| [2.0,19.0,1.0]|    0|       0.0|\n",
      "| [3.0,19.0,1.0]|    0|       0.0|\n",
      "| [3.0,19.0,6.0]|    0|       6.0|\n",
      "| [3.0,19.0,7.0]|    8|      10.0|\n",
      "| [4.0,19.0,1.0]|    6|       7.0|\n",
      "| [4.0,19.0,4.0]|    5|       6.0|\n",
      "| [4.0,19.0,5.0]|    4|       6.0|\n",
      "| [5.0,19.0,5.0]|    4|       6.0|\n",
      "| [5.0,19.0,5.0]|    7|       6.0|\n",
      "| [6.0,19.0,1.0]|    0|       7.0|\n",
      "| [6.0,19.0,3.0]|    4|       7.0|\n",
      "| [7.0,19.0,3.0]|    6|       7.0|\n",
      "| [7.0,19.0,6.0]|    6|       6.0|\n",
      "| [8.0,19.0,1.0]|    4|       0.0|\n",
      "| [8.0,19.0,2.0]|    7|       6.0|\n",
      "| [9.0,19.0,2.0]|    0|       6.0|\n",
      "|[10.0,19.0,3.0]|    0|       6.0|\n",
      "|[10.0,19.0,4.0]|    0|       6.0|\n",
      "|[10.0,19.0,4.0]|    7|       6.0|\n",
      "|[11.0,19.0,1.0]|    6|       8.0|\n",
      "|[12.0,19.0,5.0]|    4|       6.0|\n",
      "|[12.0,19.0,9.0]|    4|       0.0|\n",
      "+---------------+-----+----------+\n",
      "only showing top 25 rows\n",
      "\n"
     ]
    }
   ],
   "source": [
    "predictions = rfModel.transform(test)\n",
    "predictions.select(['NEW','GRADE','prediction']).show(25)"
   ]
  },
  {
   "cell_type": "code",
   "execution_count": 14,
   "id": "f985d8fd",
   "metadata": {},
   "outputs": [
    {
     "name": "stdout",
     "output_type": "stream",
     "text": [
      "+-----+----------+\n",
      "|GRADE|prediction|\n",
      "+-----+----------+\n",
      "|    0|       0.0|\n",
      "|    5|       6.0|\n",
      "|    0|       0.0|\n",
      "|    0|       0.0|\n",
      "|    0|       0.0|\n",
      "|    0|       6.0|\n",
      "|    8|      10.0|\n",
      "|    6|       7.0|\n",
      "|    5|       6.0|\n",
      "|    4|       6.0|\n",
      "+-----+----------+\n",
      "only showing top 10 rows\n",
      "\n"
     ]
    }
   ],
   "source": [
    "predictions.select(\"GRADE\", \"prediction\").show(10)"
   ]
  },
  {
   "cell_type": "code",
   "execution_count": 15,
   "id": "62d70223",
   "metadata": {},
   "outputs": [
    {
     "name": "stdout",
     "output_type": "stream",
     "text": [
      "+----------+--------+-----+----+\n",
      "|       USN|   SCODE|GRADE|2021|\n",
      "+----------+--------+-----+----+\n",
      "|4JN18CS001| 18MAT11|    8|2021|\n",
      "|4JN18CS001| 18PHY12|    8|2021|\n",
      "|4JN18CS001| 18ELE13|    7|2021|\n",
      "|4JN18CS001| 18CIV14|    6|2021|\n",
      "|4JN18CS001|18EGDL15|    9|2021|\n",
      "|4JN18CS001|18PHYL16|    8|2021|\n",
      "|4JN18CS001|18ELEL17|    9|2021|\n",
      "|4JN18CS001| 18EGH18|    6|2021|\n",
      "|4JN18CS002| 18MAT11|    9|2021|\n",
      "|4JN18CS002| 18PHY12|    9|2021|\n",
      "|4JN18CS002| 18ELE13|    7|2021|\n",
      "|4JN18CS002| 18CIV14|    7|2021|\n",
      "|4JN18CS002|18EGDL15|    9|2021|\n",
      "|4JN18CS002|18PHYL16|    8|2021|\n",
      "|4JN18CS002|18ELEL17|    9|2021|\n",
      "|4JN18CS002| 18EGH18|    8|2021|\n",
      "|4JN18CS003| 18MAT11|    9|2021|\n",
      "|4JN18CS003| 18PHY12|    8|2021|\n",
      "|4JN18CS003| 18ELE13|    9|2021|\n",
      "|4JN18CS003| 18CIV14|    8|2021|\n",
      "+----------+--------+-----+----+\n",
      "only showing top 20 rows\n",
      "\n"
     ]
    },
    {
     "name": "stderr",
     "output_type": "stream",
     "text": [
      "\r",
      "[Stage 56:======================================>                   (2 + 1) / 3]\r",
      "\r",
      "                                                                                \r"
     ]
    }
   ],
   "source": [
    "dftest = spark.read.csv('new.csv',header=True,inferSchema=True)\n",
    "dftest.show()\n",
    "dftest = dftest.limit(15000)"
   ]
  },
  {
   "cell_type": "code",
   "execution_count": 16,
   "id": "39c4e8a7",
   "metadata": {
    "scrolled": true
   },
   "outputs": [
    {
     "name": "stdout",
     "output_type": "stream",
     "text": [
      "+----------+--------+-----+----+----------+\n",
      "|       USN|   SCODE|GRADE|2021|EncodedUSN|\n",
      "+----------+--------+-----+----+----------+\n",
      "|4JN18CS001| 18MAT11|    8|2021|     242.0|\n",
      "|4JN18CS001| 18PHY12|    8|2021|     242.0|\n",
      "|4JN18CS001| 18ELE13|    7|2021|     242.0|\n",
      "|4JN18CS001| 18CIV14|    6|2021|     242.0|\n",
      "|4JN18CS001|18EGDL15|    9|2021|     242.0|\n",
      "|4JN18CS001|18PHYL16|    8|2021|     242.0|\n",
      "|4JN18CS001|18ELEL17|    9|2021|     242.0|\n",
      "|4JN18CS001| 18EGH18|    6|2021|     242.0|\n",
      "|4JN18CS002| 18MAT11|    9|2021|     243.0|\n",
      "|4JN18CS002| 18PHY12|    9|2021|     243.0|\n",
      "|4JN18CS002| 18ELE13|    7|2021|     243.0|\n",
      "|4JN18CS002| 18CIV14|    7|2021|     243.0|\n",
      "|4JN18CS002|18EGDL15|    9|2021|     243.0|\n",
      "|4JN18CS002|18PHYL16|    8|2021|     243.0|\n",
      "|4JN18CS002|18ELEL17|    9|2021|     243.0|\n",
      "|4JN18CS002| 18EGH18|    8|2021|     243.0|\n",
      "|4JN18CS003| 18MAT11|    9|2021|     244.0|\n",
      "|4JN18CS003| 18PHY12|    8|2021|     244.0|\n",
      "|4JN18CS003| 18ELE13|    9|2021|     244.0|\n",
      "|4JN18CS003| 18CIV14|    8|2021|     244.0|\n",
      "+----------+--------+-----+----+----------+\n",
      "only showing top 20 rows\n",
      "\n"
     ]
    }
   ],
   "source": [
    "qualification_indexer = StringIndexer(inputCol=\"USN\", outputCol=\"EncodedUSN\")\n",
    "#Fits a model to the input dataset with optional parameters.\n",
    "dftest1 = qualification_indexer.fit(dftest).transform(dftest)\n",
    "dftest1.show()"
   ]
  },
  {
   "cell_type": "code",
   "execution_count": 17,
   "id": "382b61fe",
   "metadata": {},
   "outputs": [
    {
     "name": "stdout",
     "output_type": "stream",
     "text": [
      "+----------+-----+----------+-------+\n",
      "|EncodedUSN|GRADE|SCODEFINAL|NEWDATE|\n",
      "+----------+-----+----------+-------+\n",
      "|     242.0|    8|         1|     21|\n",
      "|     242.0|    8|         2|     21|\n",
      "|     242.0|    7|         3|     21|\n",
      "|     242.0|    6|         4|     21|\n",
      "|     242.0|    9|         5|     21|\n",
      "|     242.0|    8|         6|     21|\n",
      "|     242.0|    9|         7|     21|\n",
      "|     242.0|    6|         8|     21|\n",
      "|     243.0|    9|         1|     21|\n",
      "|     243.0|    9|         2|     21|\n",
      "|     243.0|    7|         3|     21|\n",
      "|     243.0|    7|         4|     21|\n",
      "|     243.0|    9|         5|     21|\n",
      "|     243.0|    8|         6|     21|\n",
      "|     243.0|    9|         7|     21|\n",
      "|     243.0|    8|         8|     21|\n",
      "|     244.0|    9|         1|     21|\n",
      "|     244.0|    8|         2|     21|\n",
      "|     244.0|    9|         3|     21|\n",
      "|     244.0|    8|         4|     21|\n",
      "+----------+-----+----------+-------+\n",
      "only showing top 20 rows\n",
      "\n"
     ]
    }
   ],
   "source": [
    "dftest1.createOrReplaceTempView(\"df3_view\")\n",
    "\n",
    "dffinal2 = spark.sql(\n",
    "    \"\"\"\n",
    "    SELECT EncodedUSN,GRADE,\n",
    "    (CASE\n",
    "    WHEN SCODE LIKE '%1' THEN 1\n",
    "    WHEN SCODE LIKE '%2' THEN 2\n",
    "    WHEN SCODE LIKE '%3' THEN 3\n",
    "    WHEN SCODE LIKE '%4' THEN 4\n",
    "    WHEN SCODE LIKE '%5' THEN 5\n",
    "    WHEN SCODE LIKE '%6' THEN 6\n",
    "    WHEN SCODE LIKE '%7' THEN 7\n",
    "    WHEN SCODE LIKE '%8' THEN 8\n",
    "    WHEN SCODE LIKE '%9' THEN 9\n",
    "    END) AS SCODEFINAL,\n",
    "    (CASE\n",
    "    WHEN 2021 LIKE '%21' THEN 21\n",
    "    END) AS NEWDATE\n",
    "    \n",
    "    FROM df3_view\n",
    "    \"\"\"\n",
    ")\n",
    "\n",
    "dffinal2.show()"
   ]
  },
  {
   "cell_type": "code",
   "execution_count": 18,
   "id": "e961bacf",
   "metadata": {
    "scrolled": true
   },
   "outputs": [
    {
     "name": "stdout",
     "output_type": "stream",
     "text": [
      "+----------+-----+----------+-------+----------------+\n",
      "|EncodedUSN|GRADE|SCODEFINAL|NEWDATE|             NEW|\n",
      "+----------+-----+----------+-------+----------------+\n",
      "|     242.0|    8|         1|     21|[242.0,21.0,1.0]|\n",
      "|     242.0|    8|         2|     21|[242.0,21.0,2.0]|\n",
      "|     242.0|    7|         3|     21|[242.0,21.0,3.0]|\n",
      "|     242.0|    6|         4|     21|[242.0,21.0,4.0]|\n",
      "|     242.0|    9|         5|     21|[242.0,21.0,5.0]|\n",
      "|     242.0|    8|         6|     21|[242.0,21.0,6.0]|\n",
      "|     242.0|    9|         7|     21|[242.0,21.0,7.0]|\n",
      "|     242.0|    6|         8|     21|[242.0,21.0,8.0]|\n",
      "|     243.0|    9|         1|     21|[243.0,21.0,1.0]|\n",
      "|     243.0|    9|         2|     21|[243.0,21.0,2.0]|\n",
      "|     243.0|    7|         3|     21|[243.0,21.0,3.0]|\n",
      "|     243.0|    7|         4|     21|[243.0,21.0,4.0]|\n",
      "|     243.0|    9|         5|     21|[243.0,21.0,5.0]|\n",
      "|     243.0|    8|         6|     21|[243.0,21.0,6.0]|\n",
      "|     243.0|    9|         7|     21|[243.0,21.0,7.0]|\n",
      "|     243.0|    8|         8|     21|[243.0,21.0,8.0]|\n",
      "|     244.0|    9|         1|     21|[244.0,21.0,1.0]|\n",
      "|     244.0|    8|         2|     21|[244.0,21.0,2.0]|\n",
      "|     244.0|    9|         3|     21|[244.0,21.0,3.0]|\n",
      "|     244.0|    8|         4|     21|[244.0,21.0,4.0]|\n",
      "+----------+-----+----------+-------+----------------+\n",
      "only showing top 20 rows\n",
      "\n"
     ]
    }
   ],
   "source": [
    "featureassembler=VectorAssembler(inputCols=['EncodedUSN','NEWDATE','SCODEFINAL'],outputCol=\"NEW\")\n",
    "output1=featureassembler.transform(dffinal2)\n",
    "output1.show()"
   ]
  },
  {
   "cell_type": "code",
   "execution_count": 19,
   "id": "d31c340c",
   "metadata": {},
   "outputs": [],
   "source": [
    "testfinal = output1.select('NEW','GRADE')"
   ]
  },
  {
   "cell_type": "code",
   "execution_count": 20,
   "id": "2cb0e732",
   "metadata": {
    "scrolled": true
   },
   "outputs": [
    {
     "name": "stdout",
     "output_type": "stream",
     "text": [
      "+----------+\n",
      "|EncodedUSN|\n",
      "+----------+\n",
      "|     242.0|\n",
      "|     242.0|\n",
      "|     242.0|\n",
      "|     242.0|\n",
      "|     242.0|\n",
      "|     242.0|\n",
      "|     242.0|\n",
      "|     242.0|\n",
      "|     243.0|\n",
      "|     243.0|\n",
      "|     243.0|\n",
      "|     243.0|\n",
      "|     243.0|\n",
      "|     243.0|\n",
      "|     243.0|\n",
      "|     243.0|\n",
      "|     244.0|\n",
      "|     244.0|\n",
      "|     244.0|\n",
      "|     244.0|\n",
      "|     244.0|\n",
      "|     244.0|\n",
      "|     244.0|\n",
      "|     244.0|\n",
      "|     147.0|\n",
      "|     147.0|\n",
      "|     147.0|\n",
      "|     147.0|\n",
      "|     147.0|\n",
      "|     147.0|\n",
      "|     147.0|\n",
      "|     147.0|\n",
      "|     178.0|\n",
      "|     178.0|\n",
      "|     178.0|\n",
      "|     178.0|\n",
      "|     178.0|\n",
      "|     178.0|\n",
      "|     178.0|\n",
      "|     178.0|\n",
      "|     245.0|\n",
      "|     245.0|\n",
      "|     245.0|\n",
      "|     245.0|\n",
      "|     245.0|\n",
      "|     245.0|\n",
      "|     245.0|\n",
      "|     245.0|\n",
      "|     246.0|\n",
      "|     246.0|\n",
      "+----------+\n",
      "only showing top 50 rows\n",
      "\n"
     ]
    }
   ],
   "source": [
    "df1.select('EncodedUSN').show(50)"
   ]
  },
  {
   "cell_type": "code",
   "execution_count": 21,
   "id": "49553bf3",
   "metadata": {},
   "outputs": [],
   "source": [
    "StringIndexer(inputCols=[\"USN\"], outputCols=[\"newUSN1\"])\n",
    "encoder = OneHotEncoder(\n",
    "    inputCols=[\"newUSN1\"],  \n",
    "    outputCols=[\"newUSN\"]\n",
    ")"
   ]
  },
  {
   "cell_type": "code",
   "execution_count": 22,
   "id": "c11a1baa",
   "metadata": {},
   "outputs": [
    {
     "name": "stdout",
     "output_type": "stream",
     "text": [
      "+----------+-----+----------+-------+------+\n",
      "|       USN|GRADE|SCODEFINAL|NEWDATE|newUSN|\n",
      "+----------+-----+----------+-------+------+\n",
      "|4JN18CS001|    8|         1|     19| 242.0|\n",
      "|4JN18CS001|    8|         2|     19| 242.0|\n",
      "|4JN18CS001|    7|         3|     19| 242.0|\n",
      "|4JN18CS001|    6|         4|     19| 242.0|\n",
      "|4JN18CS001|    9|         5|     19| 242.0|\n",
      "|4JN18CS001|    8|         6|     19| 242.0|\n",
      "|4JN18CS001|    9|         7|     19| 242.0|\n",
      "|4JN18CS001|    6|         8|     19| 242.0|\n",
      "|4JN18CS002|    9|         1|     19| 243.0|\n",
      "|4JN18CS002|    9|         2|     19| 243.0|\n",
      "|4JN18CS002|    7|         3|     19| 243.0|\n",
      "|4JN18CS002|    7|         4|     19| 243.0|\n",
      "|4JN18CS002|    9|         5|     19| 243.0|\n",
      "|4JN18CS002|    8|         6|     19| 243.0|\n",
      "|4JN18CS002|    9|         7|     19| 243.0|\n",
      "|4JN18CS002|    8|         8|     19| 243.0|\n",
      "|4JN18CS003|    9|         1|     19| 244.0|\n",
      "|4JN18CS003|    8|         2|     19| 244.0|\n",
      "|4JN18CS003|    9|         3|     19| 244.0|\n",
      "|4JN18CS003|    8|         4|     19| 244.0|\n",
      "+----------+-----+----------+-------+------+\n",
      "only showing top 20 rows\n",
      "\n"
     ]
    }
   ],
   "source": [
    "indexer = StringIndexer(inputCol=\"USN\", outputCol=\"newUSN\").fit(dffinal)\n",
    "indexed_df = indexer.transform(dffinal)\n",
    "indexed_df.show()"
   ]
  },
  {
   "cell_type": "markdown",
   "id": "e40aa32c",
   "metadata": {},
   "source": [
    "### Prediction"
   ]
  },
  {
   "cell_type": "code",
   "execution_count": 23,
   "id": "51fd3acb",
   "metadata": {
    "scrolled": true
   },
   "outputs": [
    {
     "name": "stdout",
     "output_type": "stream",
     "text": [
      "+----------------+-----+----------+\n",
      "|             NEW|GRADE|prediction|\n",
      "+----------------+-----+----------+\n",
      "|[242.0,21.0,1.0]|    8|       6.0|\n",
      "|[242.0,21.0,2.0]|    8|       6.0|\n",
      "|[242.0,21.0,3.0]|    7|       6.0|\n",
      "|[242.0,21.0,4.0]|    6|       6.0|\n",
      "|[242.0,21.0,5.0]|    9|       6.0|\n",
      "|[242.0,21.0,6.0]|    8|       6.0|\n",
      "|[242.0,21.0,7.0]|    9|      10.0|\n",
      "|[242.0,21.0,8.0]|    6|      10.0|\n",
      "|[243.0,21.0,1.0]|    9|       6.0|\n",
      "|[243.0,21.0,2.0]|    9|       6.0|\n",
      "|[243.0,21.0,3.0]|    7|       6.0|\n",
      "|[243.0,21.0,4.0]|    7|       6.0|\n",
      "|[243.0,21.0,5.0]|    9|       6.0|\n",
      "|[243.0,21.0,6.0]|    8|       6.0|\n",
      "|[243.0,21.0,7.0]|    9|      10.0|\n",
      "|[243.0,21.0,8.0]|    8|      10.0|\n",
      "|[244.0,21.0,1.0]|    9|       6.0|\n",
      "|[244.0,21.0,2.0]|    8|       6.0|\n",
      "|[244.0,21.0,3.0]|    9|       6.0|\n",
      "|[244.0,21.0,4.0]|    8|       6.0|\n",
      "|[244.0,21.0,5.0]|    6|       6.0|\n",
      "|[244.0,21.0,6.0]|    6|       6.0|\n",
      "|[244.0,21.0,7.0]|    9|      10.0|\n",
      "|[244.0,21.0,8.0]|    8|      10.0|\n",
      "|[147.0,21.0,1.0]|    5|       6.0|\n",
      "+----------------+-----+----------+\n",
      "only showing top 25 rows\n",
      "\n"
     ]
    }
   ],
   "source": [
    "predictions = rfModel.transform(testfinal)\n",
    "predictions.select(['NEW','GRADE','prediction']).show(25)"
   ]
  }
 ],
 "metadata": {
  "kernelspec": {
   "display_name": "Python 3 (ipykernel)",
   "language": "python",
   "name": "python3"
  },
  "language_info": {
   "codemirror_mode": {
    "name": "ipython",
    "version": 3
   },
   "file_extension": ".py",
   "mimetype": "text/x-python",
   "name": "python",
   "nbconvert_exporter": "python",
   "pygments_lexer": "ipython3",
   "version": "3.9.7"
  }
 },
 "nbformat": 4,
 "nbformat_minor": 5
}
