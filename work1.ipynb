{
 "cells": [
  {
   "cell_type": "markdown",
   "id": "1cb6fb24",
   "metadata": {},
   "source": [
    "# Prediction of the performance of students in a particular student based on the subject code(taking last 2 digits into considration) ,Output = GRADE .....Using ML libraries"
   ]
  },
  {
   "cell_type": "markdown",
   "id": "4b875a19",
   "metadata": {},
   "source": [
    "### importing required modules"
   ]
  },
  {
   "cell_type": "code",
   "execution_count": 1,
   "id": "b7c061a1",
   "metadata": {},
   "outputs": [],
   "source": [
    "from pyspark.sql import SparkSession\n",
    "import sys\n",
    "import os\n",
    "import matplotlib.pyplot as plt\n",
    "import pandas as pd\n",
    "from pyspark.ml.feature import StringIndexer\n",
    "from pyspark.ml.classification import RandomForestClassifier\n",
    "from pyspark.ml.feature import VectorAssembler\n",
    "from pyspark.ml.feature import OneHotEncoder"
   ]
  },
  {
   "cell_type": "markdown",
   "id": "e6da9367",
   "metadata": {},
   "source": [
    "### creating Spark session"
   ]
  },
  {
   "cell_type": "code",
   "execution_count": 2,
   "id": "62e68400",
   "metadata": {},
   "outputs": [
    {
     "name": "stderr",
     "output_type": "stream",
     "text": [
      "22/04/14 18:06:12 WARN Utils: Your hostname, pop-os resolves to a loopback address: 127.0.1.1; using 192.168.0.195 instead (on interface wlp0s20f3)\n",
      "22/04/14 18:06:12 WARN Utils: Set SPARK_LOCAL_IP if you need to bind to another address\n",
      "WARNING: An illegal reflective access operation has occurred\n",
      "WARNING: Illegal reflective access by org.apache.spark.unsafe.Platform (file:/home/narco/.local/lib/python3.9/site-packages/pyspark/jars/spark-unsafe_2.12-3.2.1.jar) to constructor java.nio.DirectByteBuffer(long,int)\n",
      "WARNING: Please consider reporting this to the maintainers of org.apache.spark.unsafe.Platform\n",
      "WARNING: Use --illegal-access=warn to enable warnings of further illegal reflective access operations\n",
      "WARNING: All illegal access operations will be denied in a future release\n",
      "Using Spark's default log4j profile: org/apache/spark/log4j-defaults.properties\n",
      "Setting default log level to \"WARN\".\n",
      "To adjust logging level use sc.setLogLevel(newLevel). For SparkR, use setLogLevel(newLevel).\n",
      "22/04/14 18:06:12 WARN NativeCodeLoader: Unable to load native-hadoop library for your platform... using builtin-java classes where applicable\n",
      "22/04/14 18:06:13 WARN Utils: Service 'SparkUI' could not bind on port 4040. Attempting port 4041.\n"
     ]
    }
   ],
   "source": [
    "spark = SparkSession.builder.appName('Practise').getOrCreate()"
   ]
  },
  {
   "cell_type": "code",
   "execution_count": 3,
   "id": "30524856",
   "metadata": {},
   "outputs": [
    {
     "data": {
      "text/html": [
       "\n",
       "            <div>\n",
       "                <p><b>SparkSession - in-memory</b></p>\n",
       "                \n",
       "        <div>\n",
       "            <p><b>SparkContext</b></p>\n",
       "\n",
       "            <p><a href=\"http://192.168.0.195:4041\">Spark UI</a></p>\n",
       "\n",
       "            <dl>\n",
       "              <dt>Version</dt>\n",
       "                <dd><code>v3.2.1</code></dd>\n",
       "              <dt>Master</dt>\n",
       "                <dd><code>local[*]</code></dd>\n",
       "              <dt>AppName</dt>\n",
       "                <dd><code>Practise</code></dd>\n",
       "            </dl>\n",
       "        </div>\n",
       "        \n",
       "            </div>\n",
       "        "
      ],
      "text/plain": [
       "<pyspark.sql.session.SparkSession at 0x7fe55cc06820>"
      ]
     },
     "execution_count": 3,
     "metadata": {},
     "output_type": "execute_result"
    }
   ],
   "source": [
    "spark"
   ]
  },
  {
   "cell_type": "markdown",
   "id": "9dd2cad6",
   "metadata": {},
   "source": [
    "### reading csv file"
   ]
  },
  {
   "cell_type": "code",
   "execution_count": 4,
   "id": "3b66becf",
   "metadata": {},
   "outputs": [
    {
     "name": "stdout",
     "output_type": "stream",
     "text": [
      "+----------+--------+---+---+---+------+-----+-----+--------+\n",
      "|       USN|   SCODE|CIE|SEE|TOT|RESULT|GRADE| DATE|ExamType|\n",
      "+----------+--------+---+---+---+------+-----+-----+--------+\n",
      "|4JN18CS001| 18MAT11| 32| 41| 73|     P|    8|12019| Regular|\n",
      "|4JN18CS001| 18PHY12| 29| 47| 76|     P|    8|12019| Regular|\n",
      "|4JN18CS001| 18ELE13| 25| 43| 68|     P|    7|12019| Regular|\n",
      "|4JN18CS001| 18CIV14| 31| 26| 57|     P|    6|12019| Regular|\n",
      "|4JN18CS001|18EGDL15| 31| 56| 87|     P|    9|12019| Regular|\n",
      "|4JN18CS001|18PHYL16| 32| 40| 72|     P|    8|12019| Regular|\n",
      "|4JN18CS001|18ELEL17| 34| 52| 86|     P|    9|12019| Regular|\n",
      "|4JN18CS001| 18EGH18| 27| 32| 59|     P|    6|12019| Regular|\n",
      "|4JN18CS002| 18MAT11| 33| 51| 84|     P|    9|12019| Regular|\n",
      "|4JN18CS002| 18PHY12| 36| 45| 81|     P|    9|12019| Regular|\n",
      "|4JN18CS002| 18ELE13| 37| 31| 68|     P|    7|12019| Regular|\n",
      "|4JN18CS002| 18CIV14| 34| 29| 63|     P|    7|12019| Regular|\n",
      "|4JN18CS002|18EGDL15| 34| 55| 89|     P|    9|12019| Regular|\n",
      "|4JN18CS002|18PHYL16| 31| 44| 75|     P|    8|12019| Regular|\n",
      "|4JN18CS002|18ELEL17| 31| 53| 84|     P|    9|12019| Regular|\n",
      "|4JN18CS002| 18EGH18| 34| 38| 72|     P|    8|12019| Regular|\n",
      "|4JN18CS003| 18MAT11| 37| 44| 81|     P|    9|12019| Regular|\n",
      "|4JN18CS003| 18PHY12| 33| 40| 73|     P|    8|12019| Regular|\n",
      "|4JN18CS003| 18ELE13| 39| 42| 81|     P|    9|12019| Regular|\n",
      "|4JN18CS003| 18CIV14| 39| 33| 72|     P|    8|12019| Regular|\n",
      "+----------+--------+---+---+---+------+-----+-----+--------+\n",
      "only showing top 20 rows\n",
      "\n"
     ]
    }
   ],
   "source": [
    "df = spark.read.csv('Results_Data.csv',header=True,inferSchema=True)\n",
    "df.show()"
   ]
  },
  {
   "cell_type": "markdown",
   "id": "26064e84",
   "metadata": {},
   "source": [
    "### preprosessnig dataframe"
   ]
  },
  {
   "cell_type": "code",
   "execution_count": 5,
   "id": "17e86584",
   "metadata": {
    "scrolled": true
   },
   "outputs": [
    {
     "name": "stdout",
     "output_type": "stream",
     "text": [
      "+----------+-----+----------+-------+\n",
      "|       USN|GRADE|SCODEFINAL|NEWDATE|\n",
      "+----------+-----+----------+-------+\n",
      "|4JN18CS001|    8|         1|     19|\n",
      "|4JN18CS001|    8|         2|     19|\n",
      "|4JN18CS001|    7|         3|     19|\n",
      "|4JN18CS001|    6|         4|     19|\n",
      "|4JN18CS001|    9|         5|     19|\n",
      "|4JN18CS001|    8|         6|     19|\n",
      "|4JN18CS001|    9|         7|     19|\n",
      "|4JN18CS001|    6|         8|     19|\n",
      "|4JN18CS002|    9|         1|     19|\n",
      "|4JN18CS002|    9|         2|     19|\n",
      "|4JN18CS002|    7|         3|     19|\n",
      "|4JN18CS002|    7|         4|     19|\n",
      "|4JN18CS002|    9|         5|     19|\n",
      "|4JN18CS002|    8|         6|     19|\n",
      "|4JN18CS002|    9|         7|     19|\n",
      "|4JN18CS002|    8|         8|     19|\n",
      "|4JN18CS003|    9|         1|     19|\n",
      "|4JN18CS003|    8|         2|     19|\n",
      "|4JN18CS003|    9|         3|     19|\n",
      "|4JN18CS003|    8|         4|     19|\n",
      "+----------+-----+----------+-------+\n",
      "only showing top 20 rows\n",
      "\n"
     ]
    }
   ],
   "source": [
    "df.createOrReplaceTempView(\"df2_view\")\n",
    "\n",
    "dffinal = spark.sql(\n",
    "    \"\"\"\n",
    "    SELECT USN,GRADE,\n",
    "    (CASE\n",
    "    WHEN SCODE LIKE '%1' THEN 1\n",
    "    WHEN SCODE LIKE '%2' THEN 2\n",
    "    WHEN SCODE LIKE '%3' THEN 3\n",
    "    WHEN SCODE LIKE '%4' THEN 4\n",
    "    WHEN SCODE LIKE '%5' THEN 5\n",
    "    WHEN SCODE LIKE '%6' THEN 6\n",
    "    WHEN SCODE LIKE '%7' THEN 7\n",
    "    WHEN SCODE LIKE '%8' THEN 8\n",
    "    WHEN SCODE LIKE '%9' THEN 9\n",
    "    END) AS SCODEFINAL,\n",
    "    (CASE\n",
    "    WHEN DATE LIKE '%19' THEN 19\n",
    "    WHEN DATE LIKE '%20' THEN 20\n",
    "    END) AS NEWDATE\n",
    "    \n",
    "    FROM df2_view\n",
    "    \"\"\"\n",
    ")\n",
    "\n",
    "dffinal.show()"
   ]
  },
  {
   "cell_type": "code",
   "execution_count": 6,
   "id": "97d04b73",
   "metadata": {},
   "outputs": [
    {
     "name": "stdout",
     "output_type": "stream",
     "text": [
      "+----------+-----+----------+-------+----------+\n",
      "|       USN|GRADE|SCODEFINAL|NEWDATE|EncodedUSN|\n",
      "+----------+-----+----------+-------+----------+\n",
      "|4JN18CS001|    8|         1|     19|     242.0|\n",
      "|4JN18CS001|    8|         2|     19|     242.0|\n",
      "|4JN18CS001|    7|         3|     19|     242.0|\n",
      "|4JN18CS001|    6|         4|     19|     242.0|\n",
      "|4JN18CS001|    9|         5|     19|     242.0|\n",
      "|4JN18CS001|    8|         6|     19|     242.0|\n",
      "|4JN18CS001|    9|         7|     19|     242.0|\n",
      "|4JN18CS001|    6|         8|     19|     242.0|\n",
      "|4JN18CS002|    9|         1|     19|     243.0|\n",
      "|4JN18CS002|    9|         2|     19|     243.0|\n",
      "|4JN18CS002|    7|         3|     19|     243.0|\n",
      "|4JN18CS002|    7|         4|     19|     243.0|\n",
      "|4JN18CS002|    9|         5|     19|     243.0|\n",
      "|4JN18CS002|    8|         6|     19|     243.0|\n",
      "|4JN18CS002|    9|         7|     19|     243.0|\n",
      "|4JN18CS002|    8|         8|     19|     243.0|\n",
      "|4JN18CS003|    9|         1|     19|     244.0|\n",
      "|4JN18CS003|    8|         2|     19|     244.0|\n",
      "|4JN18CS003|    9|         3|     19|     244.0|\n",
      "|4JN18CS003|    8|         4|     19|     244.0|\n",
      "+----------+-----+----------+-------+----------+\n",
      "only showing top 20 rows\n",
      "\n"
     ]
    }
   ],
   "source": [
    "qualification_indexer = StringIndexer(inputCol=\"USN\", outputCol=\"EncodedUSN\")\n",
    "#Fits a model to the input dataset with optional parameters.\n",
    "df1 = qualification_indexer.fit(dffinal).transform(dffinal)\n",
    "df1.show()"
   ]
  },
  {
   "cell_type": "code",
   "execution_count": 7,
   "id": "9543d56f",
   "metadata": {
    "scrolled": true
   },
   "outputs": [
    {
     "data": {
      "text/plain": [
       "<bound method DataFrame.printSchema of DataFrame[USN: string, GRADE: int, SCODEFINAL: int, NEWDATE: int]>"
      ]
     },
     "execution_count": 7,
     "metadata": {},
     "output_type": "execute_result"
    }
   ],
   "source": [
    "dffinal.printSchema"
   ]
  },
  {
   "cell_type": "code",
   "execution_count": 8,
   "id": "d099515f",
   "metadata": {
    "scrolled": false
   },
   "outputs": [
    {
     "name": "stdout",
     "output_type": "stream",
     "text": [
      "+----------+-----+----------+-------+----------+----------------+\n",
      "|       USN|GRADE|SCODEFINAL|NEWDATE|EncodedUSN|             NEW|\n",
      "+----------+-----+----------+-------+----------+----------------+\n",
      "|4JN18CS001|    8|         1|     19|     242.0|[242.0,19.0,1.0]|\n",
      "|4JN18CS001|    8|         2|     19|     242.0|[242.0,19.0,2.0]|\n",
      "|4JN18CS001|    7|         3|     19|     242.0|[242.0,19.0,3.0]|\n",
      "|4JN18CS001|    6|         4|     19|     242.0|[242.0,19.0,4.0]|\n",
      "|4JN18CS001|    9|         5|     19|     242.0|[242.0,19.0,5.0]|\n",
      "|4JN18CS001|    8|         6|     19|     242.0|[242.0,19.0,6.0]|\n",
      "|4JN18CS001|    9|         7|     19|     242.0|[242.0,19.0,7.0]|\n",
      "|4JN18CS001|    6|         8|     19|     242.0|[242.0,19.0,8.0]|\n",
      "|4JN18CS002|    9|         1|     19|     243.0|[243.0,19.0,1.0]|\n",
      "|4JN18CS002|    9|         2|     19|     243.0|[243.0,19.0,2.0]|\n",
      "|4JN18CS002|    7|         3|     19|     243.0|[243.0,19.0,3.0]|\n",
      "|4JN18CS002|    7|         4|     19|     243.0|[243.0,19.0,4.0]|\n",
      "|4JN18CS002|    9|         5|     19|     243.0|[243.0,19.0,5.0]|\n",
      "|4JN18CS002|    8|         6|     19|     243.0|[243.0,19.0,6.0]|\n",
      "|4JN18CS002|    9|         7|     19|     243.0|[243.0,19.0,7.0]|\n",
      "|4JN18CS002|    8|         8|     19|     243.0|[243.0,19.0,8.0]|\n",
      "|4JN18CS003|    9|         1|     19|     244.0|[244.0,19.0,1.0]|\n",
      "|4JN18CS003|    8|         2|     19|     244.0|[244.0,19.0,2.0]|\n",
      "|4JN18CS003|    9|         3|     19|     244.0|[244.0,19.0,3.0]|\n",
      "|4JN18CS003|    8|         4|     19|     244.0|[244.0,19.0,4.0]|\n",
      "+----------+-----+----------+-------+----------+----------------+\n",
      "only showing top 20 rows\n",
      "\n"
     ]
    }
   ],
   "source": [
    "from pyspark.ml.feature import VectorAssembler\n",
    "featureassembler=VectorAssembler(inputCols=['EncodedUSN','NEWDATE','SCODEFINAL'],outputCol=\"NEW\")\n",
    "output=featureassembler.transform(df1)\n",
    "output.show()"
   ]
  },
  {
   "cell_type": "code",
   "execution_count": 9,
   "id": "1ea38b87",
   "metadata": {
    "scrolled": true
   },
   "outputs": [
    {
     "name": "stdout",
     "output_type": "stream",
     "text": [
      "+----------+-----+----------+-------+----------+----------------+\n",
      "|       USN|GRADE|SCODEFINAL|NEWDATE|EncodedUSN|             NEW|\n",
      "+----------+-----+----------+-------+----------+----------------+\n",
      "|4JN18CS001|    8|         1|     19|     242.0|[242.0,19.0,1.0]|\n",
      "|4JN18CS001|    8|         2|     19|     242.0|[242.0,19.0,2.0]|\n",
      "|4JN18CS001|    7|         3|     19|     242.0|[242.0,19.0,3.0]|\n",
      "|4JN18CS001|    6|         4|     19|     242.0|[242.0,19.0,4.0]|\n",
      "|4JN18CS001|    9|         5|     19|     242.0|[242.0,19.0,5.0]|\n",
      "|4JN18CS001|    8|         6|     19|     242.0|[242.0,19.0,6.0]|\n",
      "|4JN18CS001|    9|         7|     19|     242.0|[242.0,19.0,7.0]|\n",
      "|4JN18CS001|    6|         8|     19|     242.0|[242.0,19.0,8.0]|\n",
      "|4JN18CS002|    9|         1|     19|     243.0|[243.0,19.0,1.0]|\n",
      "|4JN18CS002|    9|         2|     19|     243.0|[243.0,19.0,2.0]|\n",
      "|4JN18CS002|    7|         3|     19|     243.0|[243.0,19.0,3.0]|\n",
      "|4JN18CS002|    7|         4|     19|     243.0|[243.0,19.0,4.0]|\n",
      "|4JN18CS002|    9|         5|     19|     243.0|[243.0,19.0,5.0]|\n",
      "|4JN18CS002|    8|         6|     19|     243.0|[243.0,19.0,6.0]|\n",
      "|4JN18CS002|    9|         7|     19|     243.0|[243.0,19.0,7.0]|\n",
      "|4JN18CS002|    8|         8|     19|     243.0|[243.0,19.0,8.0]|\n",
      "|4JN18CS003|    9|         1|     19|     244.0|[244.0,19.0,1.0]|\n",
      "|4JN18CS003|    8|         2|     19|     244.0|[244.0,19.0,2.0]|\n",
      "|4JN18CS003|    9|         3|     19|     244.0|[244.0,19.0,3.0]|\n",
      "|4JN18CS003|    8|         4|     19|     244.0|[244.0,19.0,4.0]|\n",
      "+----------+-----+----------+-------+----------+----------------+\n",
      "only showing top 20 rows\n",
      "\n"
     ]
    }
   ],
   "source": [
    "df2 = output.limit(10000)\n",
    "df2.show()"
   ]
  },
  {
   "cell_type": "code",
   "execution_count": 10,
   "id": "c0a8b693",
   "metadata": {},
   "outputs": [
    {
     "name": "stdout",
     "output_type": "stream",
     "text": [
      "+----------------+-----+\n",
      "|             NEW|GRADE|\n",
      "+----------------+-----+\n",
      "|[242.0,19.0,1.0]|    8|\n",
      "|[242.0,19.0,2.0]|    8|\n",
      "|[242.0,19.0,3.0]|    7|\n",
      "|[242.0,19.0,4.0]|    6|\n",
      "|[242.0,19.0,5.0]|    9|\n",
      "|[242.0,19.0,6.0]|    8|\n",
      "|[242.0,19.0,7.0]|    9|\n",
      "|[242.0,19.0,8.0]|    6|\n",
      "|[243.0,19.0,1.0]|    9|\n",
      "|[243.0,19.0,2.0]|    9|\n",
      "|[243.0,19.0,3.0]|    7|\n",
      "|[243.0,19.0,4.0]|    7|\n",
      "|[243.0,19.0,5.0]|    9|\n",
      "|[243.0,19.0,6.0]|    8|\n",
      "|[243.0,19.0,7.0]|    9|\n",
      "|[243.0,19.0,8.0]|    8|\n",
      "|[244.0,19.0,1.0]|    9|\n",
      "|[244.0,19.0,2.0]|    8|\n",
      "|[244.0,19.0,3.0]|    9|\n",
      "|[244.0,19.0,4.0]|    8|\n",
      "+----------------+-----+\n",
      "only showing top 20 rows\n",
      "\n"
     ]
    }
   ],
   "source": [
    "finalized_data = df2.select(['''NEW','GRADE'])\n",
    "finalized_data.show()"
   ]
  },
  {
   "cell_type": "markdown",
   "id": "81e1ab72",
   "metadata": {},
   "source": [
    "### ML training starts "
   ]
  },
  {
   "cell_type": "code",
   "execution_count": 11,
   "id": "286bd3a2",
   "metadata": {
    "scrolled": true
   },
   "outputs": [
    {
     "name": "stdout",
     "output_type": "stream",
     "text": [
      "Training Dataset Count: 8971\n",
      "Test Dataset Count: 1029\n"
     ]
    }
   ],
   "source": [
    "train, test = finalized_data.randomSplit([0.9, 0.1])\n",
    "print(\"Training Dataset Count: \" + str(train.count()))\n",
    "print(\"Test Dataset Count: \" + str(test.count()))"
   ]
  },
  {
   "cell_type": "code",
   "execution_count": 12,
   "id": "a94fdf33",
   "metadata": {},
   "outputs": [],
   "source": [
    "rf = RandomForestClassifier(featuresCol = 'NEW', labelCol = 'GRADE',maxBins=720)\n",
    "rfModel = rf.fit(train)"
   ]
  },
  {
   "cell_type": "code",
   "execution_count": 13,
   "id": "95bb6108",
   "metadata": {},
   "outputs": [
    {
     "ename": "AnalysisException",
     "evalue": "cannot resolve 'USN' given input columns: [df2_view.GRADE, NEW, prediction, probability, rawPrediction];\n'Project ['USN, NEW#174, GRADE#22, prediction#370]\n+- Project [NEW#174, GRADE#22, rawPrediction#352, probability#359, UDF(rawPrediction#352) AS prediction#370]\n   +- Project [NEW#174, GRADE#22, rawPrediction#352, UDF(rawPrediction#352) AS probability#359]\n      +- Project [NEW#174, GRADE#22, UDF(NEW#174) AS rawPrediction#352]\n         +- Sample 0.9, 1.0, false, 2919333773569388529\n            +- Sort [NEW#174 ASC NULLS FIRST, GRADE#22 ASC NULLS FIRST], false\n               +- Project [NEW#174, GRADE#22]\n                  +- GlobalLimit 10000\n                     +- LocalLimit 10000\n                        +- Project [USN#16, GRADE#22, SCODEFINAL#80, NEWDATE#81, EncodedUSN#137, UDF(struct(EncodedUSN, EncodedUSN#137, NEWDATE_double_VectorAssembler_28fc142d4bcc, cast(NEWDATE#81 as double), SCODEFINAL_double_VectorAssembler_28fc142d4bcc, cast(SCODEFINAL#80 as double))) AS NEW#174]\n                           +- Project [USN#16, GRADE#22, SCODEFINAL#80, NEWDATE#81, UDF(cast(USN#16 as string)) AS EncodedUSN#137]\n                              +- Project [USN#16, GRADE#22, CASE WHEN SCODE#17 LIKE %1 THEN 1 WHEN SCODE#17 LIKE %2 THEN 2 WHEN SCODE#17 LIKE %3 THEN 3 WHEN SCODE#17 LIKE %4 THEN 4 WHEN SCODE#17 LIKE %5 THEN 5 WHEN SCODE#17 LIKE %6 THEN 6 WHEN SCODE#17 LIKE %7 THEN 7 WHEN SCODE#17 LIKE %8 THEN 8 WHEN SCODE#17 LIKE %9 THEN 9 END AS SCODEFINAL#80, CASE WHEN DATE#23 LIKE %19 THEN 19 WHEN DATE#23 LIKE %20 THEN 20 END AS NEWDATE#81]\n                                 +- SubqueryAlias df2_view\n                                    +- View (`df2_view`, [USN#16,SCODE#17,CIE#18,SEE#19,TOT#20,RESULT#21,GRADE#22,DATE#23,ExamType#24])\n                                       +- Relation [USN#16,SCODE#17,CIE#18,SEE#19,TOT#20,RESULT#21,GRADE#22,DATE#23,ExamType#24] csv\n",
     "output_type": "error",
     "traceback": [
      "\u001b[0;31m---------------------------------------------------------------------------\u001b[0m",
      "\u001b[0;31mAnalysisException\u001b[0m                         Traceback (most recent call last)",
      "\u001b[0;32m/tmp/ipykernel_35716/1421646425.py\u001b[0m in \u001b[0;36m<module>\u001b[0;34m\u001b[0m\n\u001b[1;32m      1\u001b[0m \u001b[0mpredictions\u001b[0m \u001b[0;34m=\u001b[0m \u001b[0mrfModel\u001b[0m\u001b[0;34m.\u001b[0m\u001b[0mtransform\u001b[0m\u001b[0;34m(\u001b[0m\u001b[0mtest\u001b[0m\u001b[0;34m)\u001b[0m\u001b[0;34m\u001b[0m\u001b[0;34m\u001b[0m\u001b[0m\n\u001b[0;32m----> 2\u001b[0;31m \u001b[0mpredictions\u001b[0m\u001b[0;34m.\u001b[0m\u001b[0mselect\u001b[0m\u001b[0;34m(\u001b[0m\u001b[0;34m[\u001b[0m\u001b[0;34m'USN'\u001b[0m\u001b[0;34m,\u001b[0m\u001b[0;34m'NEW'\u001b[0m\u001b[0;34m,\u001b[0m\u001b[0;34m'GRADE'\u001b[0m\u001b[0;34m,\u001b[0m\u001b[0;34m'prediction'\u001b[0m\u001b[0;34m]\u001b[0m\u001b[0;34m)\u001b[0m\u001b[0;34m.\u001b[0m\u001b[0mshow\u001b[0m\u001b[0;34m(\u001b[0m\u001b[0;36m25\u001b[0m\u001b[0;34m)\u001b[0m\u001b[0;34m\u001b[0m\u001b[0;34m\u001b[0m\u001b[0m\n\u001b[0m",
      "\u001b[0;32m~/.local/lib/python3.9/site-packages/pyspark/sql/dataframe.py\u001b[0m in \u001b[0;36mselect\u001b[0;34m(self, *cols)\u001b[0m\n\u001b[1;32m   1683\u001b[0m         \u001b[0;34m[\u001b[0m\u001b[0mRow\u001b[0m\u001b[0;34m(\u001b[0m\u001b[0mname\u001b[0m\u001b[0;34m=\u001b[0m\u001b[0;34m'Alice'\u001b[0m\u001b[0;34m,\u001b[0m \u001b[0mage\u001b[0m\u001b[0;34m=\u001b[0m\u001b[0;36m12\u001b[0m\u001b[0;34m)\u001b[0m\u001b[0;34m,\u001b[0m \u001b[0mRow\u001b[0m\u001b[0;34m(\u001b[0m\u001b[0mname\u001b[0m\u001b[0;34m=\u001b[0m\u001b[0;34m'Bob'\u001b[0m\u001b[0;34m,\u001b[0m \u001b[0mage\u001b[0m\u001b[0;34m=\u001b[0m\u001b[0;36m15\u001b[0m\u001b[0;34m)\u001b[0m\u001b[0;34m]\u001b[0m\u001b[0;34m\u001b[0m\u001b[0;34m\u001b[0m\u001b[0m\n\u001b[1;32m   1684\u001b[0m         \"\"\"\n\u001b[0;32m-> 1685\u001b[0;31m         \u001b[0mjdf\u001b[0m \u001b[0;34m=\u001b[0m \u001b[0mself\u001b[0m\u001b[0;34m.\u001b[0m\u001b[0m_jdf\u001b[0m\u001b[0;34m.\u001b[0m\u001b[0mselect\u001b[0m\u001b[0;34m(\u001b[0m\u001b[0mself\u001b[0m\u001b[0;34m.\u001b[0m\u001b[0m_jcols\u001b[0m\u001b[0;34m(\u001b[0m\u001b[0;34m*\u001b[0m\u001b[0mcols\u001b[0m\u001b[0;34m)\u001b[0m\u001b[0;34m)\u001b[0m\u001b[0;34m\u001b[0m\u001b[0;34m\u001b[0m\u001b[0m\n\u001b[0m\u001b[1;32m   1686\u001b[0m         \u001b[0;32mreturn\u001b[0m \u001b[0mDataFrame\u001b[0m\u001b[0;34m(\u001b[0m\u001b[0mjdf\u001b[0m\u001b[0;34m,\u001b[0m \u001b[0mself\u001b[0m\u001b[0;34m.\u001b[0m\u001b[0msql_ctx\u001b[0m\u001b[0;34m)\u001b[0m\u001b[0;34m\u001b[0m\u001b[0;34m\u001b[0m\u001b[0m\n\u001b[1;32m   1687\u001b[0m \u001b[0;34m\u001b[0m\u001b[0m\n",
      "\u001b[0;32m~/.local/lib/python3.9/site-packages/py4j/java_gateway.py\u001b[0m in \u001b[0;36m__call__\u001b[0;34m(self, *args)\u001b[0m\n\u001b[1;32m   1319\u001b[0m \u001b[0;34m\u001b[0m\u001b[0m\n\u001b[1;32m   1320\u001b[0m         \u001b[0manswer\u001b[0m \u001b[0;34m=\u001b[0m \u001b[0mself\u001b[0m\u001b[0;34m.\u001b[0m\u001b[0mgateway_client\u001b[0m\u001b[0;34m.\u001b[0m\u001b[0msend_command\u001b[0m\u001b[0;34m(\u001b[0m\u001b[0mcommand\u001b[0m\u001b[0;34m)\u001b[0m\u001b[0;34m\u001b[0m\u001b[0;34m\u001b[0m\u001b[0m\n\u001b[0;32m-> 1321\u001b[0;31m         return_value = get_return_value(\n\u001b[0m\u001b[1;32m   1322\u001b[0m             answer, self.gateway_client, self.target_id, self.name)\n\u001b[1;32m   1323\u001b[0m \u001b[0;34m\u001b[0m\u001b[0m\n",
      "\u001b[0;32m~/.local/lib/python3.9/site-packages/pyspark/sql/utils.py\u001b[0m in \u001b[0;36mdeco\u001b[0;34m(*a, **kw)\u001b[0m\n\u001b[1;32m    115\u001b[0m                 \u001b[0;31m# Hide where the exception came from that shows a non-Pythonic\u001b[0m\u001b[0;34m\u001b[0m\u001b[0;34m\u001b[0m\u001b[0m\n\u001b[1;32m    116\u001b[0m                 \u001b[0;31m# JVM exception message.\u001b[0m\u001b[0;34m\u001b[0m\u001b[0;34m\u001b[0m\u001b[0m\n\u001b[0;32m--> 117\u001b[0;31m                 \u001b[0;32mraise\u001b[0m \u001b[0mconverted\u001b[0m \u001b[0;32mfrom\u001b[0m \u001b[0;32mNone\u001b[0m\u001b[0;34m\u001b[0m\u001b[0;34m\u001b[0m\u001b[0m\n\u001b[0m\u001b[1;32m    118\u001b[0m             \u001b[0;32melse\u001b[0m\u001b[0;34m:\u001b[0m\u001b[0;34m\u001b[0m\u001b[0;34m\u001b[0m\u001b[0m\n\u001b[1;32m    119\u001b[0m                 \u001b[0;32mraise\u001b[0m\u001b[0;34m\u001b[0m\u001b[0;34m\u001b[0m\u001b[0m\n",
      "\u001b[0;31mAnalysisException\u001b[0m: cannot resolve 'USN' given input columns: [df2_view.GRADE, NEW, prediction, probability, rawPrediction];\n'Project ['USN, NEW#174, GRADE#22, prediction#370]\n+- Project [NEW#174, GRADE#22, rawPrediction#352, probability#359, UDF(rawPrediction#352) AS prediction#370]\n   +- Project [NEW#174, GRADE#22, rawPrediction#352, UDF(rawPrediction#352) AS probability#359]\n      +- Project [NEW#174, GRADE#22, UDF(NEW#174) AS rawPrediction#352]\n         +- Sample 0.9, 1.0, false, 2919333773569388529\n            +- Sort [NEW#174 ASC NULLS FIRST, GRADE#22 ASC NULLS FIRST], false\n               +- Project [NEW#174, GRADE#22]\n                  +- GlobalLimit 10000\n                     +- LocalLimit 10000\n                        +- Project [USN#16, GRADE#22, SCODEFINAL#80, NEWDATE#81, EncodedUSN#137, UDF(struct(EncodedUSN, EncodedUSN#137, NEWDATE_double_VectorAssembler_28fc142d4bcc, cast(NEWDATE#81 as double), SCODEFINAL_double_VectorAssembler_28fc142d4bcc, cast(SCODEFINAL#80 as double))) AS NEW#174]\n                           +- Project [USN#16, GRADE#22, SCODEFINAL#80, NEWDATE#81, UDF(cast(USN#16 as string)) AS EncodedUSN#137]\n                              +- Project [USN#16, GRADE#22, CASE WHEN SCODE#17 LIKE %1 THEN 1 WHEN SCODE#17 LIKE %2 THEN 2 WHEN SCODE#17 LIKE %3 THEN 3 WHEN SCODE#17 LIKE %4 THEN 4 WHEN SCODE#17 LIKE %5 THEN 5 WHEN SCODE#17 LIKE %6 THEN 6 WHEN SCODE#17 LIKE %7 THEN 7 WHEN SCODE#17 LIKE %8 THEN 8 WHEN SCODE#17 LIKE %9 THEN 9 END AS SCODEFINAL#80, CASE WHEN DATE#23 LIKE %19 THEN 19 WHEN DATE#23 LIKE %20 THEN 20 END AS NEWDATE#81]\n                                 +- SubqueryAlias df2_view\n                                    +- View (`df2_view`, [USN#16,SCODE#17,CIE#18,SEE#19,TOT#20,RESULT#21,GRADE#22,DATE#23,ExamType#24])\n                                       +- Relation [USN#16,SCODE#17,CIE#18,SEE#19,TOT#20,RESULT#21,GRADE#22,DATE#23,ExamType#24] csv\n"
     ]
    }
   ],
   "source": [
    "predictions = rfModel.transform(test)\n",
    "predictions.select(['USN','NEW','GRADE','prediction']).show(25)"
   ]
  },
  {
   "cell_type": "code",
   "execution_count": null,
   "id": "f985d8fd",
   "metadata": {},
   "outputs": [],
   "source": [
    "predictions.select(\"GRADE\", \"prediction\").show(10)"
   ]
  },
  {
   "cell_type": "code",
   "execution_count": null,
   "id": "62d70223",
   "metadata": {},
   "outputs": [],
   "source": [
    "dftest = spark.read.csv('new.csv',header=True,inferSchema=True)\n",
    "dftest.show()\n",
    "dftest = dftest.limit(15000)"
   ]
  },
  {
   "cell_type": "code",
   "execution_count": null,
   "id": "39c4e8a7",
   "metadata": {
    "scrolled": true
   },
   "outputs": [],
   "source": [
    "qualification_indexer = StringIndexer(inputCol=\"USN\", outputCol=\"EncodedUSN\")\n",
    "#Fits a model to the input dataset with optional parameters.\n",
    "dftest1 = qualification_indexer.fit(dftest).transform(dftest)\n",
    "dftest1.show()"
   ]
  },
  {
   "cell_type": "code",
   "execution_count": null,
   "id": "382b61fe",
   "metadata": {},
   "outputs": [],
   "source": [
    "dftest1.createOrReplaceTempView(\"df3_view\")\n",
    "\n",
    "dffinal2 = spark.sql(\n",
    "    \"\"\"\n",
    "    SELECT EncodedUSN,GRADE,\n",
    "    (CASE\n",
    "    WHEN SCODE LIKE '%1' THEN 1\n",
    "    WHEN SCODE LIKE '%2' THEN 2\n",
    "    WHEN SCODE LIKE '%3' THEN 3\n",
    "    WHEN SCODE LIKE '%4' THEN 4\n",
    "    WHEN SCODE LIKE '%5' THEN 5\n",
    "    WHEN SCODE LIKE '%6' THEN 6\n",
    "    WHEN SCODE LIKE '%7' THEN 7\n",
    "    WHEN SCODE LIKE '%8' THEN 8\n",
    "    WHEN SCODE LIKE '%9' THEN 9\n",
    "    END) AS SCODEFINAL,\n",
    "    (CASE\n",
    "    WHEN 2021 LIKE '%21' THEN 21\n",
    "    END) AS NEWDATE\n",
    "    \n",
    "    FROM df3_view\n",
    "    \"\"\"\n",
    ")\n",
    "\n",
    "dffinal2.show()"
   ]
  },
  {
   "cell_type": "code",
   "execution_count": null,
   "id": "e961bacf",
   "metadata": {
    "scrolled": true
   },
   "outputs": [],
   "source": [
    "featureassembler=VectorAssembler(inputCols=['EncodedUSN','NEWDATE','SCODEFINAL'],outputCol=\"NEW\")\n",
    "output1=featureassembler.transform(dffinal2)\n",
    "output1.show()"
   ]
  },
  {
   "cell_type": "code",
   "execution_count": null,
   "id": "d31c340c",
   "metadata": {},
   "outputs": [],
   "source": [
    "testfinal = output1.select('NEW','GRADE')"
   ]
  },
  {
   "cell_type": "code",
   "execution_count": null,
   "id": "2cb0e732",
   "metadata": {
    "scrolled": true
   },
   "outputs": [],
   "source": [
    "df1.select('EncodedUSN').show(50)"
   ]
  },
  {
   "cell_type": "code",
   "execution_count": null,
   "id": "49553bf3",
   "metadata": {},
   "outputs": [],
   "source": [
    "StringIndexer(inputCols=[\"USN\"], outputCols=[\"newUSN1\"])\n",
    "encoder = OneHotEncoder(\n",
    "    inputCols=[\"newUSN1\"],  \n",
    "    outputCols=[\"newUSN\"]\n",
    ")"
   ]
  },
  {
   "cell_type": "code",
   "execution_count": null,
   "id": "c11a1baa",
   "metadata": {},
   "outputs": [],
   "source": [
    "indexer = StringIndexer(inputCol=\"USN\", outputCol=\"newUSN\").fit(dffinal)\n",
    "indexed_df = indexer.transform(dffinal)\n",
    "indexed_df.show()"
   ]
  },
  {
   "cell_type": "markdown",
   "id": "e40aa32c",
   "metadata": {},
   "source": [
    "### Prediction"
   ]
  },
  {
   "cell_type": "code",
   "execution_count": null,
   "id": "51fd3acb",
   "metadata": {
    "scrolled": true
   },
   "outputs": [],
   "source": [
    "predictions = rfModel.transform(testfinal)\n",
    "predictions.select(['NEW','GRADE','prediction']).show(25)"
   ]
  },
  {
   "cell_type": "code",
   "execution_count": null,
   "id": "01fdf20b",
   "metadata": {},
   "outputs": [],
   "source": [
    "mPath = \"Model1\"\n",
    "rfModel.write().overwrite().save(mPath)"
   ]
  },
  {
   "cell_type": "code",
   "execution_count": null,
   "id": "15ca5f86",
   "metadata": {},
   "outputs": [],
   "source": []
  }
 ],
 "metadata": {
  "kernelspec": {
   "display_name": "Python 3 (ipykernel)",
   "language": "python",
   "name": "python3"
  },
  "language_info": {
   "codemirror_mode": {
    "name": "ipython",
    "version": 3
   },
   "file_extension": ".py",
   "mimetype": "text/x-python",
   "name": "python",
   "nbconvert_exporter": "python",
   "pygments_lexer": "ipython3",
   "version": "3.9.7"
  }
 },
 "nbformat": 4,
 "nbformat_minor": 5
}
