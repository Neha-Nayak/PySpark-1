{
 "cells": [
  {
   "cell_type": "code",
   "execution_count": 1,
   "id": "8c78fa30",
   "metadata": {},
   "outputs": [],
   "source": [
    "from pyspark.sql import SparkSession\n",
    "import matplotlib.pyplot as plt\n",
    "import pandas as pd"
   ]
  },
  {
   "cell_type": "code",
   "execution_count": 2,
   "id": "ca6607e3",
   "metadata": {
    "scrolled": true
   },
   "outputs": [
    {
     "name": "stderr",
     "output_type": "stream",
     "text": [
      "22/04/08 22:43:18 WARN Utils: Your hostname, pop-os resolves to a loopback address: 127.0.1.1; using 192.168.1.5 instead (on interface wlo1)\n",
      "22/04/08 22:43:18 WARN Utils: Set SPARK_LOCAL_IP if you need to bind to another address\n",
      "WARNING: An illegal reflective access operation has occurred\n",
      "WARNING: Illegal reflective access by org.apache.spark.unsafe.Platform (file:/media/bitmos/New%20Volume/Coders_Club/PySpark/PySpark/lib/python3.9/site-packages/pyspark/jars/spark-unsafe_2.12-3.2.1.jar) to constructor java.nio.DirectByteBuffer(long,int)\n",
      "WARNING: Please consider reporting this to the maintainers of org.apache.spark.unsafe.Platform\n",
      "WARNING: Use --illegal-access=warn to enable warnings of further illegal reflective access operations\n",
      "WARNING: All illegal access operations will be denied in a future release\n",
      "Using Spark's default log4j profile: org/apache/spark/log4j-defaults.properties\n",
      "Setting default log level to \"WARN\".\n",
      "To adjust logging level use sc.setLogLevel(newLevel). For SparkR, use setLogLevel(newLevel).\n",
      "22/04/08 22:43:19 WARN NativeCodeLoader: Unable to load native-hadoop library for your platform... using builtin-java classes where applicable\n"
     ]
    }
   ],
   "source": [
    "spark=SparkSession.builder.appName(\"Analysis\").getOrCreate()"
   ]
  },
  {
   "cell_type": "code",
   "execution_count": 3,
   "id": "6647fb2b",
   "metadata": {},
   "outputs": [],
   "source": [
    "df_ResultData=spark.read.csv(\"Results_Data.csv\",header=True,inferSchema=True)\n"
   ]
  },
  {
   "cell_type": "code",
   "execution_count": 4,
   "id": "137d42ac",
   "metadata": {
    "scrolled": false
   },
   "outputs": [
    {
     "name": "stdout",
     "output_type": "stream",
     "text": [
      "+----------+--------+---+---+---+------+-----+-----+--------+\n",
      "|       USN|   SCODE|CIE|SEE|TOT|RESULT|GRADE| DATE|ExamType|\n",
      "+----------+--------+---+---+---+------+-----+-----+--------+\n",
      "|4JN18CS001| 18MAT11| 32| 41| 73|     P|    8|12019| Regular|\n",
      "|4JN18CS001| 18PHY12| 29| 47| 76|     P|    8|12019| Regular|\n",
      "|4JN18CS001| 18ELE13| 25| 43| 68|     P|    7|12019| Regular|\n",
      "|4JN18CS001| 18CIV14| 31| 26| 57|     P|    6|12019| Regular|\n",
      "|4JN18CS001|18EGDL15| 31| 56| 87|     P|    9|12019| Regular|\n",
      "|4JN18CS001|18PHYL16| 32| 40| 72|     P|    8|12019| Regular|\n",
      "|4JN18CS001|18ELEL17| 34| 52| 86|     P|    9|12019| Regular|\n",
      "|4JN18CS001| 18EGH18| 27| 32| 59|     P|    6|12019| Regular|\n",
      "|4JN18CS002| 18MAT11| 33| 51| 84|     P|    9|12019| Regular|\n",
      "|4JN18CS002| 18PHY12| 36| 45| 81|     P|    9|12019| Regular|\n",
      "+----------+--------+---+---+---+------+-----+-----+--------+\n",
      "only showing top 10 rows\n",
      "\n"
     ]
    }
   ],
   "source": [
    "df_ResultData.show(10)"
   ]
  },
  {
   "cell_type": "code",
   "execution_count": 5,
   "id": "8ee2cfe4",
   "metadata": {},
   "outputs": [],
   "source": [
    "for row in df_ResultData.rdd.collect():\n",
    "    if row=='A':\n",
    "        df"
   ]
  },
  {
   "cell_type": "code",
   "execution_count": 6,
   "id": "e5e150a7",
   "metadata": {},
   "outputs": [],
   "source": [
    "from pyspark.sql.functions import col, when\n",
    "\n",
    "valueWhenTrue = \"F\"  # for example\n",
    "\n",
    "df_ResultData=df_ResultData.withColumn(\n",
    "    \"RESULT\",\n",
    "    when(\n",
    "        col(\"RESULT\") == 'A',\n",
    "        valueWhenTrue\n",
    "    ).otherwise(col(\"RESULT\"))\n",
    ")"
   ]
  },
  {
   "cell_type": "code",
   "execution_count": 7,
   "id": "8549773d",
   "metadata": {},
   "outputs": [
    {
     "name": "stdout",
     "output_type": "stream",
     "text": [
      "+----------+--------+---+---+---+------+-----+-----+--------+\n",
      "|       USN|   SCODE|CIE|SEE|TOT|RESULT|GRADE| DATE|ExamType|\n",
      "+----------+--------+---+---+---+------+-----+-----+--------+\n",
      "|4JN18CS001| 18MAT11| 32| 41| 73|     P|    8|12019| Regular|\n",
      "|4JN18CS001| 18PHY12| 29| 47| 76|     P|    8|12019| Regular|\n",
      "|4JN18CS001| 18ELE13| 25| 43| 68|     P|    7|12019| Regular|\n",
      "|4JN18CS001| 18CIV14| 31| 26| 57|     P|    6|12019| Regular|\n",
      "|4JN18CS001|18EGDL15| 31| 56| 87|     P|    9|12019| Regular|\n",
      "|4JN18CS001|18PHYL16| 32| 40| 72|     P|    8|12019| Regular|\n",
      "|4JN18CS001|18ELEL17| 34| 52| 86|     P|    9|12019| Regular|\n",
      "|4JN18CS001| 18EGH18| 27| 32| 59|     P|    6|12019| Regular|\n",
      "|4JN18CS002| 18MAT11| 33| 51| 84|     P|    9|12019| Regular|\n",
      "|4JN18CS002| 18PHY12| 36| 45| 81|     P|    9|12019| Regular|\n",
      "|4JN18CS002| 18ELE13| 37| 31| 68|     P|    7|12019| Regular|\n",
      "|4JN18CS002| 18CIV14| 34| 29| 63|     P|    7|12019| Regular|\n",
      "|4JN18CS002|18EGDL15| 34| 55| 89|     P|    9|12019| Regular|\n",
      "|4JN18CS002|18PHYL16| 31| 44| 75|     P|    8|12019| Regular|\n",
      "|4JN18CS002|18ELEL17| 31| 53| 84|     P|    9|12019| Regular|\n",
      "|4JN18CS002| 18EGH18| 34| 38| 72|     P|    8|12019| Regular|\n",
      "|4JN18CS003| 18MAT11| 37| 44| 81|     P|    9|12019| Regular|\n",
      "|4JN18CS003| 18PHY12| 33| 40| 73|     P|    8|12019| Regular|\n",
      "|4JN18CS003| 18ELE13| 39| 42| 81|     P|    9|12019| Regular|\n",
      "|4JN18CS003| 18CIV14| 39| 33| 72|     P|    8|12019| Regular|\n",
      "+----------+--------+---+---+---+------+-----+-----+--------+\n",
      "only showing top 20 rows\n",
      "\n"
     ]
    }
   ],
   "source": [
    "df_ResultData.show()"
   ]
  },
  {
   "cell_type": "code",
   "execution_count": 8,
   "id": "6155ff8b",
   "metadata": {},
   "outputs": [
    {
     "data": {
      "image/png": "[encoded data removed]",
      "text/plain": [
       "<Figure size 432x288 with 1 Axes>"
      ]
     },
     "metadata": {
      "needs_background": "light"
     },
     "output_type": "display_data"
    }
   ],
   "source": [
    "def subcode(subname):\n",
    "    plt.title('Plot of Total Students Passed in a Subject')\n",
    "    plt.xlabel('Result')\n",
    "    plt.ylabel('Number Of Students')\n",
    "    df_BySub=df_ResultData.filter(df_ResultData.SCODE == subname)\n",
    "    x=df_BySub.toPandas()[\"RESULT\"].values.tolist()\n",
    "    plt.hist(x)\n",
    "    plt.show()\n",
    "subcode(\"18ELE13\")"
   ]
  }
 ],
 "metadata": {
  "kernelspec": {
   "display_name": "Python 3 (ipykernel)",
   "language": "python",
   "name": "python3"
  },
  "language_info": {
   "codemirror_mode": {
    "name": "ipython",
    "version": 3
   },
   "file_extension": ".py",
   "mimetype": "text/x-python",
   "name": "python",
   "nbconvert_exporter": "python",
   "pygments_lexer": "ipython3",
   "version": "3.9.7"
  }
 },
 "nbformat": 4,
 "nbformat_minor": 5
}
