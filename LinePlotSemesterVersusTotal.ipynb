{
  "nbformat": 4,
  "nbformat_minor": 0,
  "metadata": {
    "colab": {
      "name": "LinePlotSemesterVersusTotal.ipynb",
      "provenance": [],
      "collapsed_sections": [],
      "mount_file_id": "1rM_T4vbxUEd2ZaIIlFhrCJR7qdquJKUx",
      "authorship_tag": "ABX9TyOVibJ8ofydK/9SykZ6+45U",
      "include_colab_link": true
    },
    "kernelspec": {
      "name": "python3",
      "display_name": "Python 3"
    },
    "language_info": {
      "name": "python"
    }
  },
  "cells": [
    {
      "cell_type": "markdown",
      "metadata": {
        "id": "view-in-github",
        "colab_type": "text"
      },
      "source": [
        "<a href=\"https://colab.research.google.com/github/Neha-Nayak/PySpark-1/blob/main/LinePlotSemesterVersusTotal.ipynb\" target=\"_parent\"><img src=\"https://colab.research.google.com/assets/colab-badge.svg\" alt=\"Open In Colab\"/></a>"
      ]
    },
    {
      "cell_type": "markdown",
      "source": [
        "\n",
        "\n",
        "# **Line Plot for Student performance**\n",
        "\n"
      ],
      "metadata": {
        "id": "RM3ZeYhbaDXF"
      }
    },
    {
      "cell_type": "markdown",
      "source": [
        "Installing PySpark"
      ],
      "metadata": {
        "id": "G5F-Wn9LaUFg"
      }
    },
    {
      "cell_type": "code",
      "execution_count": 4,
      "metadata": {
        "id": "aSayoiz0LWLo",
        "outputId": "195476a2-d6aa-448f-b201-dabdc8e2229b",
        "colab": {
          "base_uri": "https://localhost:8080/"
        }
      },
      "outputs": [
        {
          "output_type": "stream",
          "name": "stdout",
          "text": [
            "Collecting pyspark\n",
            "  Downloading pyspark-3.2.1.tar.gz (281.4 MB)\n",
            "\u001b[K     |████████████████████████████████| 281.4 MB 33 kB/s \n",
            "\u001b[?25hCollecting py4j==0.10.9.3\n",
            "  Downloading py4j-0.10.9.3-py2.py3-none-any.whl (198 kB)\n",
            "\u001b[K     |████████████████████████████████| 198 kB 47.8 MB/s \n",
            "\u001b[?25hBuilding wheels for collected packages: pyspark\n",
            "  Building wheel for pyspark (setup.py) ... \u001b[?25l\u001b[?25hdone\n",
            "  Created wheel for pyspark: filename=pyspark-3.2.1-py2.py3-none-any.whl size=281853642 sha256=7b24f79baaeee44e8ad3e35fa0545b8f29a59236c4a8a75bf0c441dafdec77f0\n",
            "  Stored in directory: /root/.cache/pip/wheels/9f/f5/07/7cd8017084dce4e93e84e92efd1e1d5334db05f2e83bcef74f\n",
            "Successfully built pyspark\n",
            "Installing collected packages: py4j, pyspark\n",
            "Successfully installed py4j-0.10.9.3 pyspark-3.2.1\n"
          ]
        }
      ],
      "source": [
        "!pip install pyspark"
      ]
    },
    {
      "cell_type": "markdown",
      "source": [
        "Importing required modules"
      ],
      "metadata": {
        "id": "uqGUrnfTaeYI"
      }
    },
    {
      "cell_type": "code",
      "source": [
        "from pyspark.sql import SparkSession\n",
        "import matplotlib.pyplot as plt\n",
        "import pandas as pd"
      ],
      "metadata": {
        "id": "D3wXM5vQtpB0"
      },
      "execution_count": 5,
      "outputs": []
    },
    {
      "cell_type": "code",
      "source": [
        "spark=SparkSession.builder.appName(\"Visualisation\").getOrCreate()"
      ],
      "metadata": {
        "id": "VrdPtg2et-px"
      },
      "execution_count": 6,
      "outputs": []
    },
    {
      "cell_type": "markdown",
      "source": [
        "Reading the given Result_data "
      ],
      "metadata": {
        "id": "WDEPuW3ka0ri"
      }
    },
    {
      "cell_type": "code",
      "source": [
        "df_ResultData=spark.read.csv(\"/content/drive/MyDrive/Colab Notebooks/Results_Data.csv\",header=True,inferSchema=True)\n",
        "df_ResultData.head(10)"
      ],
      "metadata": {
        "colab": {
          "base_uri": "https://localhost:8080/"
        },
        "id": "8l330-m5t-sl",
        "outputId": "c8fbb6db-cff0-4508-c648-df6465f08e65"
      },
      "execution_count": 7,
      "outputs": [
        {
          "output_type": "execute_result",
          "data": {
            "text/plain": [
              "[Row(USN='4JN18CS001', SCODE='18MAT11', CIE=32, SEE=41, TOT=73, RESULT='P', GRADE=8, DATE='12019', ExamType='Regular'),\n",
              " Row(USN='4JN18CS001', SCODE='18PHY12', CIE=29, SEE=47, TOT=76, RESULT='P', GRADE=8, DATE='12019', ExamType='Regular'),\n",
              " Row(USN='4JN18CS001', SCODE='18ELE13', CIE=25, SEE=43, TOT=68, RESULT='P', GRADE=7, DATE='12019', ExamType='Regular'),\n",
              " Row(USN='4JN18CS001', SCODE='18CIV14', CIE=31, SEE=26, TOT=57, RESULT='P', GRADE=6, DATE='12019', ExamType='Regular'),\n",
              " Row(USN='4JN18CS001', SCODE='18EGDL15', CIE=31, SEE=56, TOT=87, RESULT='P', GRADE=9, DATE='12019', ExamType='Regular'),\n",
              " Row(USN='4JN18CS001', SCODE='18PHYL16', CIE=32, SEE=40, TOT=72, RESULT='P', GRADE=8, DATE='12019', ExamType='Regular'),\n",
              " Row(USN='4JN18CS001', SCODE='18ELEL17', CIE=34, SEE=52, TOT=86, RESULT='P', GRADE=9, DATE='12019', ExamType='Regular'),\n",
              " Row(USN='4JN18CS001', SCODE='18EGH18', CIE=27, SEE=32, TOT=59, RESULT='P', GRADE=6, DATE='12019', ExamType='Regular'),\n",
              " Row(USN='4JN18CS002', SCODE='18MAT11', CIE=33, SEE=51, TOT=84, RESULT='P', GRADE=9, DATE='12019', ExamType='Regular'),\n",
              " Row(USN='4JN18CS002', SCODE='18PHY12', CIE=36, SEE=45, TOT=81, RESULT='P', GRADE=9, DATE='12019', ExamType='Regular')]"
            ]
          },
          "metadata": {},
          "execution_count": 7
        }
      ]
    },
    {
      "cell_type": "code",
      "source": [
        "df_ResultData.show(10)"
      ],
      "metadata": {
        "colab": {
          "base_uri": "https://localhost:8080/"
        },
        "id": "YY-FLHult-vh",
        "outputId": "9c8f4e17-8a76-4299-c4cd-761cfb907b4a"
      },
      "execution_count": 8,
      "outputs": [
        {
          "output_type": "stream",
          "name": "stdout",
          "text": [
            "+----------+--------+---+---+---+------+-----+-----+--------+\n",
            "|       USN|   SCODE|CIE|SEE|TOT|RESULT|GRADE| DATE|ExamType|\n",
            "+----------+--------+---+---+---+------+-----+-----+--------+\n",
            "|4JN18CS001| 18MAT11| 32| 41| 73|     P|    8|12019| Regular|\n",
            "|4JN18CS001| 18PHY12| 29| 47| 76|     P|    8|12019| Regular|\n",
            "|4JN18CS001| 18ELE13| 25| 43| 68|     P|    7|12019| Regular|\n",
            "|4JN18CS001| 18CIV14| 31| 26| 57|     P|    6|12019| Regular|\n",
            "|4JN18CS001|18EGDL15| 31| 56| 87|     P|    9|12019| Regular|\n",
            "|4JN18CS001|18PHYL16| 32| 40| 72|     P|    8|12019| Regular|\n",
            "|4JN18CS001|18ELEL17| 34| 52| 86|     P|    9|12019| Regular|\n",
            "|4JN18CS001| 18EGH18| 27| 32| 59|     P|    6|12019| Regular|\n",
            "|4JN18CS002| 18MAT11| 33| 51| 84|     P|    9|12019| Regular|\n",
            "|4JN18CS002| 18PHY12| 36| 45| 81|     P|    9|12019| Regular|\n",
            "+----------+--------+---+---+---+------+-----+-----+--------+\n",
            "only showing top 10 rows\n",
            "\n"
          ]
        }
      ]
    },
    {
      "cell_type": "markdown",
      "source": [
        "Columns USN, DATE and TOTAL are formatted for our test case."
      ],
      "metadata": {
        "id": "FjEzcFFCu6jj"
      }
    },
    {
      "cell_type": "code",
      "source": [
        "df_ResultData.select('DATE').distinct().collect()"
      ],
      "metadata": {
        "colab": {
          "base_uri": "https://localhost:8080/"
        },
        "id": "4xtXfD0608IO",
        "outputId": "6d2d50a7-4045-4e19-e6fc-a01cceeac5fa"
      },
      "execution_count": 9,
      "outputs": [
        {
          "output_type": "execute_result",
          "data": {
            "text/plain": [
              "[Row(DATE='Jul-20'),\n",
              " Row(DATE='72019'),\n",
              " Row(DATE='12019'),\n",
              " Row(DATE='20-Jul'),\n",
              " Row(DATE='12020'),\n",
              " Row(DATE='Jan-20')]"
            ]
          },
          "metadata": {},
          "execution_count": 9
        }
      ]
    },
    {
      "cell_type": "code",
      "source": [
        "from pyspark.sql.functions import when\n",
        "dfT = df_ResultData.withColumn(\"DATE\", when(df_ResultData.DATE == 'Jul-20','2020-Jul')\n",
        "                                 .when(df_ResultData.DATE == '20-Jul','2020-Jul')\n",
        "                                 .when(df_ResultData.DATE == 'Jan-20','2020-Jan')\n",
        "                                 .when(df_ResultData.DATE == '12019','2019-Jan')\n",
        "                                 .when(df_ResultData.DATE == '72019','2019-Jul')\n",
        "                                 .when(df_ResultData.DATE == '12020','2020-Jan')\n",
        "                                 .when(df_ResultData.DATE == '72020','2020-Jul'))\n",
        "dfT.select('DATE').distinct().collect()"
      ],
      "metadata": {
        "colab": {
          "base_uri": "https://localhost:8080/"
        },
        "id": "7UDA_9tPQubb",
        "outputId": "826987ed-8e88-441b-abc8-66dda5012b44"
      },
      "execution_count": 15,
      "outputs": [
        {
          "output_type": "execute_result",
          "data": {
            "text/plain": [
              "[Row(DATE='2020-Jul'),\n",
              " Row(DATE='2019-Jul'),\n",
              " Row(DATE='2020-Jan'),\n",
              " Row(DATE='2019-Jan')]"
            ]
          },
          "metadata": {},
          "execution_count": 15
        }
      ]
    },
    {
      "cell_type": "code",
      "source": [
        "def filter(usn):\n",
        "  dftry1=dfT.filter(dfT.USN == usn)\n",
        "  return dftry1"
      ],
      "metadata": {
        "id": "V0qwFhU4G61D"
      },
      "execution_count": 16,
      "outputs": []
    },
    {
      "cell_type": "markdown",
      "source": [
        "Selecting a particular USN for whom the performance graph will be plotted"
      ],
      "metadata": {
        "id": "wWuA7FbHYuuR"
      }
    },
    {
      "cell_type": "code",
      "source": [
        "df_usn=filter('4JN17CS010')\n",
        "df_data=df_usn.select('DATE','TOT')\n",
        "df_data.show(10)"
      ],
      "metadata": {
        "colab": {
          "base_uri": "https://localhost:8080/"
        },
        "id": "cIKYtWfSHUbC",
        "outputId": "10155832-0481-4fd7-a8da-adb8ad49ff05"
      },
      "execution_count": 17,
      "outputs": [
        {
          "output_type": "stream",
          "name": "stdout",
          "text": [
            "+--------+---+\n",
            "|    DATE|TOT|\n",
            "+--------+---+\n",
            "|2019-Jan| 69|\n",
            "|2019-Jan| 69|\n",
            "|2019-Jan| 57|\n",
            "|2019-Jan| 61|\n",
            "|2019-Jan| 43|\n",
            "|2019-Jan| 48|\n",
            "|2019-Jan| 83|\n",
            "|2019-Jan| 91|\n",
            "|2019-Jan| 34|\n",
            "|2019-Jul| 77|\n",
            "+--------+---+\n",
            "only showing top 10 rows\n",
            "\n"
          ]
        }
      ]
    },
    {
      "cell_type": "markdown",
      "source": [
        "Obtaining Average of Total marks for a student in a particulat semester. "
      ],
      "metadata": {
        "id": "vzEhEPRhY7Qn"
      }
    },
    {
      "cell_type": "code",
      "source": [
        "dfPlot1=df_data.groupBy(\"DATE\").avg(\"TOT\")\n",
        "dfPlot=dfPlot1.sort('DATE')\n",
        "dfPlot.show()"
      ],
      "metadata": {
        "colab": {
          "base_uri": "https://localhost:8080/"
        },
        "id": "TJXEpF9at-yv",
        "outputId": "68c41979-bf23-492d-e0c4-36c1b3dbc45a"
      },
      "execution_count": 18,
      "outputs": [
        {
          "output_type": "stream",
          "name": "stdout",
          "text": [
            "+--------+------------------+\n",
            "|    DATE|          avg(TOT)|\n",
            "+--------+------------------+\n",
            "|2019-Jan|61.666666666666664|\n",
            "|2019-Jul|62.666666666666664|\n",
            "|2020-Jan|             67.75|\n",
            "|2020-Jul|            78.125|\n",
            "+--------+------------------+\n",
            "\n"
          ]
        }
      ]
    },
    {
      "cell_type": "markdown",
      "source": [
        "Line plot for Student performance, which determines the average of total marks obtained by the student in a particular semester."
      ],
      "metadata": {
        "id": "yYDMK1gmZIBP"
      }
    },
    {
      "cell_type": "code",
      "source": [
        "plt.title('Student Performnace')\n",
        "plt.xlabel('Year')\n",
        "plt.ylabel('Total Marks')\n",
        "x=dfPlot.toPandas()['DATE'].values.tolist()\n",
        "y=dfPlot.toPandas()['avg(TOT)'].values.tolist()\n",
        "plt.plot(x,y,marker = 'o')\n",
        "plt.ylim(0,100)\n",
        "plt.show()"
      ],
      "metadata": {
        "colab": {
          "base_uri": "https://localhost:8080/",
          "height": 295
        },
        "id": "qBME6WST_orn",
        "outputId": "7c35d346-bd24-4428-8ccf-888ad37f1b3c"
      },
      "execution_count": 19,
      "outputs": [
        {
          "output_type": "display_data",
          "data": {
            "text/plain": [
              "<Figure size 432x288 with 1 Axes>"
            ],
            "image/png": "[encoded data removed]"
          },
          "metadata": {
            "needs_background": "light"
          }
        }
      ]
    }
  ]
}