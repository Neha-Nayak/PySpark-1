{
 "cells": [
  {
   "cell_type": "markdown",
   "id": "43687138",
   "metadata": {},
   "source": [
    "# Prediction of the performance of students in a particular student based on the subject code(taking last 2 digits into considration) ,Output = TOTAL MARKS .....Using ML libraries"
   ]
  },
  {
   "cell_type": "markdown",
   "id": "6a6c89b6",
   "metadata": {},
   "source": [
    "### importing required modules"
   ]
  },
  {
   "cell_type": "code",
   "execution_count": 1,
   "id": "5d64a593",
   "metadata": {},
   "outputs": [],
   "source": [
    "from pyspark.sql import SparkSession\n",
    "import matplotlib.pyplot as plt\n",
    "import pandas as pd\n",
    "import sys\n",
    "import os\n",
    "from pyspark.ml.feature import StringIndexer\n",
    "from pyspark.ml.regression import LinearRegression\n",
    "from pyspark.ml.feature import VectorAssembler\n",
    "from pyspark.ml.feature import OneHotEncoder"
   ]
  },
  {
   "cell_type": "markdown",
   "id": "380d9d7d",
   "metadata": {},
   "source": [
    "### creating Spark session"
   ]
  },
  {
   "cell_type": "code",
   "execution_count": 2,
   "id": "21ef6db0",
   "metadata": {},
   "outputs": [
    {
     "name": "stderr",
     "output_type": "stream",
     "text": [
      "22/04/14 16:22:58 WARN Utils: Your hostname, pop-os resolves to a loopback address: 127.0.1.1; using 192.168.0.195 instead (on interface wlp0s20f3)\n",
      "22/04/14 16:22:58 WARN Utils: Set SPARK_LOCAL_IP if you need to bind to another address\n",
      "WARNING: An illegal reflective access operation has occurred\n",
      "WARNING: Illegal reflective access by org.apache.spark.unsafe.Platform (file:/home/narco/.local/lib/python3.9/site-packages/pyspark/jars/spark-unsafe_2.12-3.2.1.jar) to constructor java.nio.DirectByteBuffer(long,int)\n",
      "WARNING: Please consider reporting this to the maintainers of org.apache.spark.unsafe.Platform\n",
      "WARNING: Use --illegal-access=warn to enable warnings of further illegal reflective access operations\n",
      "WARNING: All illegal access operations will be denied in a future release\n",
      "Using Spark's default log4j profile: org/apache/spark/log4j-defaults.properties\n",
      "Setting default log level to \"WARN\".\n",
      "To adjust logging level use sc.setLogLevel(newLevel). For SparkR, use setLogLevel(newLevel).\n",
      "22/04/14 16:22:58 WARN NativeCodeLoader: Unable to load native-hadoop library for your platform... using builtin-java classes where applicable\n",
      "22/04/14 16:22:59 WARN Utils: Service 'SparkUI' could not bind on port 4040. Attempting port 4041.\n"
     ]
    }
   ],
   "source": [
    "spark = SparkSession.builder.appName('Practise').getOrCreate()"
   ]
  },
  {
   "cell_type": "markdown",
   "id": "0ea629a9",
   "metadata": {},
   "source": [
    "### reading csv file"
   ]
  },
  {
   "cell_type": "code",
   "execution_count": null,
   "id": "555d9b7e",
   "metadata": {},
   "outputs": [],
   "source": [
    "df = spark.read.csv('Results_Data.csv',header=True,inferSchema=True)\n",
    "df.show()"
   ]
  },
  {
   "cell_type": "markdown",
   "id": "a261744a",
   "metadata": {},
   "source": [
    "### preprosessnig dataframe"
   ]
  },
  {
   "cell_type": "code",
   "execution_count": null,
   "id": "f66b7cfb",
   "metadata": {},
   "outputs": [],
   "source": [
    "df.createOrReplaceTempView(\"df2_view\")\n",
    "\n",
    "dffinal = spark.sql(\n",
    "    \"\"\"\n",
    "    SELECT USN,TOT,\n",
    "    (CASE\n",
    "    WHEN SCODE LIKE '%1' THEN 1\n",
    "    WHEN SCODE LIKE '%2' THEN 2\n",
    "    WHEN SCODE LIKE '%3' THEN 3\n",
    "    WHEN SCODE LIKE '%4' THEN 4\n",
    "    WHEN SCODE LIKE '%5' THEN 5\n",
    "    WHEN SCODE LIKE '%6' THEN 6\n",
    "    WHEN SCODE LIKE '%7' THEN 7\n",
    "    WHEN SCODE LIKE '%8' THEN 8\n",
    "    WHEN SCODE LIKE '%9' THEN 9\n",
    "    END) AS SCODEFINAL,\n",
    "    (CASE\n",
    "    WHEN DATE LIKE '%19' THEN 19\n",
    "    WHEN DATE LIKE '%20' THEN 20\n",
    "    END) AS NEWDATE\n",
    "    \n",
    "    FROM df2_view\n",
    "    \"\"\"\n",
    ")\n",
    "\n",
    "dffinal.show()"
   ]
  },
  {
   "cell_type": "code",
   "execution_count": null,
   "id": "4081a5f7",
   "metadata": {},
   "outputs": [],
   "source": [
    "qualification_indexer = StringIndexer(inputCol=\"USN\", outputCol=\"EncodedUSN\")\n",
    "#Fits a model to the input dataset with optional parameters.\n",
    "df1 = qualification_indexer.fit(dffinal).transform(dffinal)\n",
    "df1.show()"
   ]
  },
  {
   "cell_type": "code",
   "execution_count": null,
   "id": "42eced23",
   "metadata": {},
   "outputs": [],
   "source": [
    "from pyspark.ml.feature import VectorAssembler\n",
    "featureassembler=VectorAssembler(inputCols=['EncodedUSN','NEWDATE','SCODEFINAL'],outputCol=\"NEW\")\n",
    "output=featureassembler.transform(df1)\n",
    "output.show()"
   ]
  },
  {
   "cell_type": "code",
   "execution_count": null,
   "id": "8066a4cb",
   "metadata": {},
   "outputs": [],
   "source": [
    "df2 = output.limit(10000)\n",
    "df2.show()"
   ]
  },
  {
   "cell_type": "code",
   "execution_count": null,
   "id": "7785d18c",
   "metadata": {
    "scrolled": false
   },
   "outputs": [],
   "source": [
    "finalized_data = df2.select(['NEW','TOT'])\n",
    "finalized_data.show()"
   ]
  },
  {
   "cell_type": "code",
   "execution_count": null,
   "id": "01b7ea06",
   "metadata": {},
   "outputs": [],
   "source": [
    "finalized_data.printSchema"
   ]
  },
  {
   "cell_type": "code",
   "execution_count": null,
   "id": "402543ba",
   "metadata": {},
   "outputs": [],
   "source": [
    "train, test = finalized_data.randomSplit([0.8, 0.2])\n",
    "print(\"Training Dataset Count: \" + str(train.count()))\n",
    "print(\"Test Dataset Count: \" + str(test.count()))"
   ]
  },
  {
   "cell_type": "markdown",
   "id": "df00466d",
   "metadata": {},
   "source": [
    "### ML training starts"
   ]
  },
  {
   "cell_type": "code",
   "execution_count": null,
   "id": "a2d53a08",
   "metadata": {},
   "outputs": [],
   "source": [
    "regressor=LinearRegression(featuresCol='NEW', labelCol='TOT')\n",
    "regressor=regressor.fit(train)"
   ]
  },
  {
   "cell_type": "code",
   "execution_count": null,
   "id": "2ae48ca7",
   "metadata": {},
   "outputs": [],
   "source": [
    "predictions = regressor.transform(test)\n",
    "predictions.select(['NEW','TOT','prediction']).show(25)"
   ]
  },
  {
   "cell_type": "code",
   "execution_count": null,
   "id": "0a19b325",
   "metadata": {},
   "outputs": [],
   "source": [
    "dftest = spark.read.csv('new1.csv',header=True,inferSchema=True)\n",
    "dftest.show()\n",
    "dftest = dftest.limit(15000)"
   ]
  },
  {
   "cell_type": "code",
   "execution_count": null,
   "id": "cebda6bd",
   "metadata": {},
   "outputs": [],
   "source": [
    "qualification_indexer = StringIndexer(inputCol=\"USN\", outputCol=\"EncodedUSN\")\n",
    "#Fits a model to the input dataset with optional parameters.\n",
    "dftest1 = qualification_indexer.fit(dftest).transform(dftest)\n",
    "dftest1.show()"
   ]
  },
  {
   "cell_type": "code",
   "execution_count": null,
   "id": "ea068ac4",
   "metadata": {},
   "outputs": [],
   "source": [
    "dftest1.createOrReplaceTempView(\"df3_view\")\n",
    "\n",
    "dffinal2 = spark.sql(\n",
    "    \"\"\"\n",
    "    SELECT EncodedUSN,TOT,\n",
    "    (CASE\n",
    "    WHEN SCODE LIKE '%1' THEN 1\n",
    "    WHEN SCODE LIKE '%2' THEN 2\n",
    "    WHEN SCODE LIKE '%3' THEN 3\n",
    "    WHEN SCODE LIKE '%4' THEN 4\n",
    "    WHEN SCODE LIKE '%5' THEN 5\n",
    "    WHEN SCODE LIKE '%6' THEN 6\n",
    "    WHEN SCODE LIKE '%7' THEN 7\n",
    "    WHEN SCODE LIKE '%8' THEN 8\n",
    "    WHEN SCODE LIKE '%9' THEN 9\n",
    "    END) AS SCODEFINAL,\n",
    "    (CASE\n",
    "    WHEN 2021 LIKE '%21' THEN 21\n",
    "    END) AS NEWDATE\n",
    "    \n",
    "    FROM df3_view\n",
    "    \"\"\"\n",
    ")\n",
    "\n",
    "dffinal2.show()"
   ]
  },
  {
   "cell_type": "code",
   "execution_count": null,
   "id": "90acf471",
   "metadata": {},
   "outputs": [],
   "source": [
    "featureassembler=VectorAssembler(inputCols=['EncodedUSN','NEWDATE','SCODEFINAL'],outputCol=\"NEW\")\n",
    "output1=featureassembler.transform(dffinal2)\n",
    "output1.show()"
   ]
  },
  {
   "cell_type": "code",
   "execution_count": null,
   "id": "e53d990d",
   "metadata": {},
   "outputs": [],
   "source": [
    "testfinal = output1.select('NEW','TOT')"
   ]
  },
  {
   "cell_type": "code",
   "execution_count": null,
   "id": "a07e0175",
   "metadata": {},
   "outputs": [],
   "source": [
    "df1.select('EncodedUSN').show(50)"
   ]
  },
  {
   "cell_type": "code",
   "execution_count": null,
   "id": "01d41bee",
   "metadata": {},
   "outputs": [],
   "source": [
    "StringIndexer(inputCols=[\"USN\"], outputCols=[\"newUSN1\"])\n",
    "encoder = OneHotEncoder(\n",
    "    inputCols=[\"newUSN1\"],  \n",
    "    outputCols=[\"newUSN\"]\n",
    ")"
   ]
  },
  {
   "cell_type": "code",
   "execution_count": null,
   "id": "024a9d32",
   "metadata": {},
   "outputs": [],
   "source": [
    "indexer = StringIndexer(inputCol=\"USN\", outputCol=\"newUSN\").fit(dffinal)\n",
    "indexed_df = indexer.transform(dffinal)\n",
    "indexed_df.show()"
   ]
  },
  {
   "cell_type": "markdown",
   "id": "df7d043f",
   "metadata": {},
   "source": [
    "### Prediction"
   ]
  },
  {
   "cell_type": "code",
   "execution_count": null,
   "id": "93b16ff3",
   "metadata": {},
   "outputs": [],
   "source": [
    "predictions = regressor.transform(testfinal)\n",
    "predictions.select(['NEW','TOT','prediction']).show(25)"
   ]
  },
  {
   "cell_type": "code",
   "execution_count": null,
   "id": "74042318",
   "metadata": {},
   "outputs": [],
   "source": [
    "path = 'model_rfc1'\n",
    "os.mkdir(path)\n",
    "regressor.save(os.path.join(sys.argv[1], 'regressor'))"
   ]
  }
 ],
 "metadata": {
  "kernelspec": {
   "display_name": "Python 3 (ipykernel)",
   "language": "python",
   "name": "python3"
  },
  "language_info": {
   "codemirror_mode": {
    "name": "ipython",
    "version": 3
   },
   "file_extension": ".py",
   "mimetype": "text/x-python",
   "name": "python",
   "nbconvert_exporter": "python",
   "pygments_lexer": "ipython3",
   "version": "3.9.7"
  }
 },
 "nbformat": 4,
 "nbformat_minor": 5
}
